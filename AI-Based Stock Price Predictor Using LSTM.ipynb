{
 "cells": [
  {
   "cell_type": "markdown",
   "id": "1347616a",
   "metadata": {},
   "source": [
    "pip install yfinance\n"
   ]
  },
  {
   "cell_type": "code",
   "execution_count": null,
   "id": "90fe2d05",
   "metadata": {
    "vscode": {
     "languageId": "plaintext"
    }
   },
   "outputs": [],
   "source": [
    "import yfinance as yf\n",
    "import numpy as np\n",
    "import pandas as pd\n",
    "import matplotlib.pyplot as plt\n",
    "from sklearn.preprocessing import MinMaxScaler\n",
    "from tensorflow.keras.models import Sequential\n",
    "from tensorflow.keras.layers import Dense, LSTM\n"
   ]
  },
  {
   "cell_type": "code",
   "execution_count": null,
   "id": "ad1b93d4",
   "metadata": {
    "vscode": {
     "languageId": "plaintext"
    }
   },
   "outputs": [],
   "source": [
    "# Load stock data\n",
    "data = yf.download('AAPL', start='2010-01-01', end='2023-12-31')\n",
    "close_prices = data['Close'].values.reshape(-1, 1)\n",
    "\n",
    "# Normalize the data\n",
    "scaler = MinMaxScaler(feature_range=(0, 1))\n",
    "scaled_data = scaler.fit_transform(close_prices)\n"
   ]
  },
  {
   "cell_type": "code",
   "execution_count": null,
   "id": "0f1e9c13",
   "metadata": {
    "vscode": {
     "languageId": "plaintext"
    }
   },
   "outputs": [],
   "source": [
    "# Prepare training data\n",
    "train_size = int(len(scaled_data) * 0.80)\n",
    "train_data = scaled_data[:train_size]\n",
    "test_data = scaled_data[train_size - 60:]\n",
    "\n",
    "def create_dataset(dataset, time_step=60):\n",
    "    x, y = [], []\n",
    "    for i in range(time_step, len(dataset)):\n",
    "        x.append(dataset[i-time_step:i, 0])\n",
    "        y.append(dataset[i, 0])\n",
    "    return np.array(x), np.array(y)\n",
    "\n",
    "x_train, y_train = create_dataset(train_data)\n",
    "x_test, y_test = create_dataset(test_data)\n"
   ]
  },
  {
   "cell_type": "code",
   "execution_count": null,
   "id": "a1dcd7a8",
   "metadata": {
    "vscode": {
     "languageId": "plaintext"
    }
   },
   "outputs": [],
   "source": [
    "# Reshape input for LSTM [samples, time steps, features]\n",
    "x_train = np.reshape(x_train, (x_train.shape[0], x_train.shape[1], 1))\n",
    "x_test  = np.reshape(x_test,  (x_test.shape[0], x_test.shape[1], 1))"
   ]
  },
  {
   "cell_type": "code",
   "execution_count": null,
   "id": "3b16cf6e",
   "metadata": {
    "vscode": {
     "languageId": "plaintext"
    }
   },
   "outputs": [],
   "source": [
    "# Build LSTM model\n",
    "model = Sequential([\n",
    "    LSTM(units=50, return_sequences=True, input_shape=(x_train.shape[1], 1)),\n",
    "    LSTM(units=50),\n",
    "    Dense(units=1)\n",
    "])"
   ]
  }
 ],
 "metadata": {
  "language_info": {
   "name": "python"
  }
 },
 "nbformat": 4,
 "nbformat_minor": 5
}
