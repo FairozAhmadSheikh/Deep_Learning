{
 "cells": [
  {
   "cell_type": "markdown",
   "id": "7774ca54",
   "metadata": {},
   "source": [
    "pip install numpy pandas matplotlib scikit-learn tensorflow\n"
   ]
  },
  {
   "cell_type": "markdown",
   "id": "60b4bd7b",
   "metadata": {},
   "source": [
    "Use the Credit Card Fraud Dataset from Kaggle:\n",
    "🔗 https://www.kaggle.com/datasets/mlg-ulb/creditcardfraud\n",
    "(We will use only Class 0 transactions to train, and test with both 0 and 1)"
   ]
  },
  {
   "cell_type": "code",
   "execution_count": null,
   "id": "a463c73c",
   "metadata": {
    "vscode": {
     "languageId": "plaintext"
    }
   },
   "outputs": [],
   "source": []
  }
 ],
 "metadata": {
  "language_info": {
   "name": "python"
  }
 },
 "nbformat": 4,
 "nbformat_minor": 5
}
