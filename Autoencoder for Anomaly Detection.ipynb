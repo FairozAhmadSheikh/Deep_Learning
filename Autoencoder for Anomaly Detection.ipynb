{
 "cells": [
  {
   "cell_type": "markdown",
   "id": "7774ca54",
   "metadata": {},
   "source": [
    "pip install numpy pandas matplotlib scikit-learn tensorflow\n"
   ]
  },
  {
   "cell_type": "markdown",
   "id": "60b4bd7b",
   "metadata": {},
   "source": [
    "Use the Credit Card Fraud Dataset from Kaggle:\n",
    "🔗 https://www.kaggle.com/datasets/mlg-ulb/creditcardfraud\n",
    "(We will use only Class 0 transactions to train, and test with both 0 and 1)"
   ]
  },
  {
   "cell_type": "code",
   "execution_count": null,
   "id": "a463c73c",
   "metadata": {
    "vscode": {
     "languageId": "plaintext"
    }
   },
   "outputs": [],
   "source": [
    "import pandas as pd\n",
    "import numpy as np\n",
    "import matplotlib.pyplot as plt\n",
    "from sklearn.preprocessing import StandardScaler\n",
    "from sklearn.model_selection import train_test_split\n",
    "from tensorflow.keras.models import Model\n",
    "from tensorflow.keras.layers import Input, Dense\n",
    "from tensorflow.keras.optimizers import Adam\n"
   ]
  },
  {
   "cell_type": "code",
   "execution_count": null,
   "id": "bd0fa6ac",
   "metadata": {
    "vscode": {
     "languageId": "plaintext"
    }
   },
   "outputs": [],
   "source": [
    "df = pd.read_csv(\"creditcard.csv\")\n",
    "\n",
    "# Use only \"normal\" (non-fraud) data for training\n",
    "normal_data = df[df['Class'] == 0]\n",
    "fraud_data  = df[df['Class'] == 1]\n"
   ]
  },
  {
   "cell_type": "code",
   "execution_count": null,
   "id": "e7f0c2cb",
   "metadata": {
    "vscode": {
     "languageId": "plaintext"
    }
   },
   "outputs": [],
   "source": [
    "# Drop 'Time' and 'Class'\n",
    "X = normal_data.drop(['Time', 'Class'], axis=1)\n",
    "X_test = df.drop(['Time', 'Class'], axis=1)\n",
    "y_test = df['Class']\n"
   ]
  },
  {
   "cell_type": "code",
   "execution_count": null,
   "id": "109667cf",
   "metadata": {
    "vscode": {
     "languageId": "plaintext"
    }
   },
   "outputs": [],
   "source": [
    "# Scale features\n",
    "scaler = StandardScaler()\n",
    "X_scaled = scaler.fit_transform(X)\n",
    "X_test_scaled = scaler.transform(X_test)"
   ]
  },
  {
   "cell_type": "code",
   "execution_count": null,
   "id": "e0ccb3c3",
   "metadata": {
    "vscode": {
     "languageId": "plaintext"
    }
   },
   "outputs": [],
   "source": [
    "# Build Autoencoder \n",
    "input_dim = X_scaled.shape[1]\n",
    "\n",
    "input_layer = Input(shape=(input_dim,))\n",
    "encoded = Dense(16, activation='relu')(input_layer)\n",
    "encoded = Dense(8, activation='relu')(encoded)\n",
    "\n",
    "decoded = Dense(16, activation='relu')(encoded)\n",
    "decoded = Dense(input_dim, activation='linear')(decoded)\n",
    "\n",
    "autoencoder = Model(inputs=input_layer, outputs=decoded)\n",
    "autoencoder.compile(optimizer=Adam(learning_rate=0.001), loss='mse')\n"
   ]
  },
  {
   "cell_type": "code",
   "execution_count": null,
   "id": "10f8df46",
   "metadata": {
    "vscode": {
     "languageId": "plaintext"
    }
   },
   "outputs": [],
   "source": [
    "#   Train Autoencoder on Normal Data \n",
    "autoencoder.fit(X_scaled, X_scaled, epochs=10, batch_size=256, shuffle=True)\n",
    "\n",
    "#  Predict and Calculate Reconstruction Error \n",
    "reconstructed = autoencoder.predict(X_test_scaled)\n",
    "mse = np.mean(np.power(X_test_scaled - reconstructed, 2), axis=1)\n"
   ]
  },
  {
   "cell_type": "code",
   "execution_count": null,
   "id": "ed49328f",
   "metadata": {
    "vscode": {
     "languageId": "plaintext"
    }
   },
   "outputs": [],
   "source": [
    "# Set threshold based on 95th percentile\n",
    "threshold = np.percentile(mse, 95)\n",
    "\n",
    "# Predict anomalies\n",
    "predictions = (mse > threshold).astype(int)\n",
    "\n",
    "#   Evaluate \n",
    "from sklearn.metrics import classification_report, confusion_matrix"
   ]
  },
  {
   "cell_type": "code",
   "execution_count": null,
   "id": "4d40f778",
   "metadata": {
    "vscode": {
     "languageId": "plaintext"
    }
   },
   "outputs": [],
   "source": [
    "print(\"Confusion Matrix:\\n\", confusion_matrix(y_test, predictions))\n",
    "print(\"\\nClassification Report:\\n\", classification_report(y_test, predictions))\n",
    "\n",
    "#  Plot Errors \n",
    "plt.hist(mse[y_test == 0], bins=50, alpha=0.6, label='Normal')\n",
    "plt.hist(mse[y_test == 1], bins=50, alpha=0.6, label='Fraud')\n",
    "plt.axvline(threshold, color='r', linestyle='--', label='Threshold')\n",
    "plt.legend()\n",
    "plt.title(\"Reconstruction Error Distribution\")\n",
    "plt.show()"
   ]
  }
 ],
 "metadata": {
  "language_info": {
   "name": "python"
  }
 },
 "nbformat": 4,
 "nbformat_minor": 5
}
