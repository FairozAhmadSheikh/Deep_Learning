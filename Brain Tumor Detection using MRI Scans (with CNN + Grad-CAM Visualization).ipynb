{
 "cells": [
  {
   "cell_type": "markdown",
   "id": "b71cd6b4",
   "metadata": {},
   "source": [
    "https://www.kaggle.com/datasets/navoneel/brain-mri-images-for-brain-tumor-detection\n",
    "\n",
    "dataset Download\n",
    "\n",
    "yes/ folder : MRI scans with tumor\n",
    "\n",
    "no/ folder : MRI scans without tumor"
   ]
  },
  {
   "cell_type": "markdown",
   "id": "eaab0aae",
   "metadata": {},
   "source": [
    "pip install tensorflow opencv-python matplotlib seaborn scikit-learn\n"
   ]
  },
  {
   "cell_type": "code",
   "execution_count": null,
   "id": "b85d072c",
   "metadata": {
    "vscode": {
     "languageId": "plaintext"
    }
   },
   "outputs": [],
   "source": [
    "import os\n",
    "import cv2\n",
    "import numpy as np\n",
    "from sklearn.model_selection import train_test_split\n",
    "from tensorflow.keras.utils import to_categorical\n",
    "\n",
    "data_dir = 'BrainMRI'\n",
    "categories = ['yes', 'no']\n",
    "data = []"
   ]
  },
  {
   "cell_type": "code",
   "execution_count": null,
   "id": "f84d48b1",
   "metadata": {
    "vscode": {
     "languageId": "plaintext"
    }
   },
   "outputs": [],
   "source": [
    "for category in categories:\n",
    "    path = os.path.join(data_dir, category)\n",
    "    label = categories.index(category)\n",
    "    \n",
    "    for img_name in os.listdir(path):\n",
    "        img_path = os.path.join(path, img_name)\n",
    "        try:\n",
    "            img = cv2.imread(img_path, cv2.IMREAD_GRAYSCALE)\n",
    "            img = cv2.resize(img, (128, 128))\n",
    "            data.append([img, label])\n",
    "        except:\n",
    "            continue\n",
    "\n",
    "np.random.shuffle(data)\n",
    "X = []\n",
    "y = []\n",
    "for feature, label in data:\n",
    "    X.append(feature)\n",
    "    y.append(label)\n",
    "\n",
    "X = np.array(X).reshape(-1, 128, 128, 1) / 255.0\n",
    "y = to_categorical(y, 2)\n",
    "\n",
    "X_train, X_test, y_train, y_test = train_test_split(X, y, test_size=0.2, random_state=42)"
   ]
  },
  {
   "cell_type": "code",
   "execution_count": null,
   "id": "f8f993c6",
   "metadata": {
    "vscode": {
     "languageId": "plaintext"
    }
   },
   "outputs": [],
   "source": [
    "from tensorflow.keras.models import Sequential\n",
    "from tensorflow.keras.layers import Conv2D, MaxPooling2D, Dense, Dropout, Flatten\n",
    "\n",
    "model = Sequential()\n",
    "\n",
    "model.add(Conv2D(32, (3, 3), activation='relu', input_shape=(128, 128, 1)))\n",
    "model.add(MaxPooling2D(2, 2))\n",
    "\n",
    "model.add(Conv2D(64, (3, 3), activation='relu'))\n",
    "model.add(MaxPooling2D(2, 2))\n",
    "\n",
    "model.add(Conv2D(128, (3, 3), activation='relu'))\n",
    "model.add(MaxPooling2D(2, 2))\n",
    "\n"
   ]
  },
  {
   "cell_type": "code",
   "execution_count": null,
   "id": "2f105036",
   "metadata": {
    "vscode": {
     "languageId": "plaintext"
    }
   },
   "outputs": [],
   "source": [
    "model.add(Flatten())\n",
    "model.add(Dense(128, activation='relu'))\n",
    "model.add(Dropout(0.5))\n",
    "model.add(Dense(2, activation='softmax'))\n",
    "\n",
    "model.compile(optimizer='adam', loss='categorical_crossentropy', metrics=['accuracy'])\n",
    "model.summary()"
   ]
  },
  {
   "cell_type": "code",
   "execution_count": null,
   "id": "9cb6b04f",
   "metadata": {
    "vscode": {
     "languageId": "plaintext"
    }
   },
   "outputs": [],
   "source": [
    "history = model.fit(X_train, y_train, epochs=10, validation_data=(X_test, y_test), batch_size=32)\n"
   ]
  }
 ],
 "metadata": {
  "language_info": {
   "name": "python"
  }
 },
 "nbformat": 4,
 "nbformat_minor": 5
}
