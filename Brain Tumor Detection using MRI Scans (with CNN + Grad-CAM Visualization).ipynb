{
 "cells": [
  {
   "cell_type": "markdown",
   "id": "b71cd6b4",
   "metadata": {},
   "source": [
    "https://www.kaggle.com/datasets/navoneel/brain-mri-images-for-brain-tumor-detection\n",
    "\n",
    "dataset Download\n",
    "\n",
    "yes/ folder : MRI scans with tumor\n",
    "\n",
    "no/ folder : MRI scans without tumor"
   ]
  }
 ],
 "metadata": {
  "language_info": {
   "name": "python"
  }
 },
 "nbformat": 4,
 "nbformat_minor": 5
}
