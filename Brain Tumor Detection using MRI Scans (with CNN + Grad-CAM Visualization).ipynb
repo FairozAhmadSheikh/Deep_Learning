{
 "cells": [
  {
   "cell_type": "markdown",
   "id": "b71cd6b4",
   "metadata": {},
   "source": [
    "https://www.kaggle.com/datasets/navoneel/brain-mri-images-for-brain-tumor-detection\n",
    "\n",
    "dataset Download\n",
    "\n",
    "yes/ folder : MRI scans with tumor\n",
    "\n",
    "no/ folder : MRI scans without tumor"
   ]
  },
  {
   "cell_type": "markdown",
   "id": "eaab0aae",
   "metadata": {},
   "source": [
    "pip install tensorflow opencv-python matplotlib seaborn scikit-learn\n"
   ]
  },
  {
   "cell_type": "code",
   "execution_count": null,
   "id": "b85d072c",
   "metadata": {
    "vscode": {
     "languageId": "plaintext"
    }
   },
   "outputs": [],
   "source": [
    "import os\n",
    "import cv2\n",
    "import numpy as np\n",
    "from sklearn.model_selection import train_test_split\n",
    "from tensorflow.keras.utils import to_categorical\n",
    "\n",
    "data_dir = 'BrainMRI'\n",
    "categories = ['yes', 'no']\n",
    "data = []"
   ]
  }
 ],
 "metadata": {
  "language_info": {
   "name": "python"
  }
 },
 "nbformat": 4,
 "nbformat_minor": 5
}
