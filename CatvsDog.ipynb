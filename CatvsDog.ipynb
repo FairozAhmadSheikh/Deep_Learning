{
 "cells": [
  {
   "cell_type": "code",
   "execution_count": null,
   "id": "1494446e",
   "metadata": {
    "vscode": {
     "languageId": "plaintext"
    }
   },
   "outputs": [],
   "source": [
    "import os\n",
    "import numpy as np\n",
    "from PIL import Image\n",
    "from sklearn.model_selection import train_test_split\n",
    "import tensorflow as tf\n",
    "from tensorflow.keras import layers, models"
   ]
  },
  {
   "cell_type": "code",
   "execution_count": null,
   "id": "8fa9960f",
   "metadata": {
    "vscode": {
     "languageId": "plaintext"
    }
   },
   "outputs": [],
   "source": [
    "cat_dir = \"PetImages/Cat\"\n",
    "dog_dir = \"PetImages/Dog\"\n",
    "# Image size\n",
    "IMG_SIZE = 128"
   ]
  },
  {
   "cell_type": "code",
   "execution_count": null,
   "id": "aff9001e",
   "metadata": {
    "vscode": {
     "languageId": "plaintext"
    }
   },
   "outputs": [],
   "source": [
    "# Load images and labels into memory\n",
    "def load_images(folder, label):\n",
    "    images = []\n",
    "    labels = []\n",
    "    count = 1\n",
    "    # x = os.listdir(folder)\n",
    "    for filename in os.listdir(folder):\n",
    "        \n",
    "        if filename.lower().endswith(('jpg', 'jpeg', 'png')):\n",
    "            try:\n",
    "                path = os.path.join(folder, filename)\n",
    "                img = Image.open(path).convert(\"RGB\")\n",
    "                img = img.resize((IMG_SIZE, IMG_SIZE))\n",
    "                img = np.array(img) / 255.0  # Normalize\n",
    "                images.append(img)\n",
    "                labels.append(label)\n",
    "                count+=1\n",
    "                if count == 10:\n",
    "                    break\n",
    "            except:\n",
    "                continue  # Skip corrupted files\n",
    "    return images, labels\n"
   ]
  },
  {
   "cell_type": "code",
   "execution_count": null,
   "id": "07e69bec",
   "metadata": {
    "vscode": {
     "languageId": "plaintext"
    }
   },
   "outputs": [],
   "source": [
    "cat_images, cat_labels = load_images(cat_dir, 0)\n",
    "dog_images, dog_labels = load_images(dog_dir, 1)"
   ]
  },
  {
   "cell_type": "code",
   "execution_count": null,
   "id": "70b72db7",
   "metadata": {
    "vscode": {
     "languageId": "plaintext"
    }
   },
   "outputs": [],
   "source": [
    "\n",
    "# Combine and split\n",
    "X = np.array(cat_images + dog_images)\n",
    "y = np.array(cat_labels + dog_labels)\n",
    "\n",
    "# One-hot encode labels\n",
    "y = tf.keras.utils.to_categorical(y, num_classes=2)\n",
    "\n",
    "# Train/test split\n",
    "X_train, X_test, y_train, y_test = train_test_split(X, y, test_size=0.2, random_state=42, stratify=y)"
   ]
  },
  {
   "cell_type": "code",
   "execution_count": null,
   "id": "71702682",
   "metadata": {
    "vscode": {
     "languageId": "plaintext"
    }
   },
   "outputs": [],
   "source": [
    "model = models.Sequential([\n",
    "    layers.Conv2D(32, (3,3), activation = 'relu', input_shape=(IMG_SIZE,IMG_SIZE,3)),\n",
    "    layers.MaxPooling2D(4,4),\n",
    "    layers.Conv2D(64, (3,3), activation='relu'),\n",
    "    layers.MaxPooling2D(),\n",
    "    layers.Flatten(),\n",
    "    layers.Dense(64, activation='relu'),\n",
    "    layers.Dense(2, activation='softmax')\n",
    "])"
   ]
  }
 ],
 "metadata": {
  "language_info": {
   "name": "python"
  }
 },
 "nbformat": 4,
 "nbformat_minor": 5
}
