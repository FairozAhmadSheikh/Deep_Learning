{
 "cells": [
  {
   "cell_type": "code",
   "execution_count": null,
   "id": "1494446e",
   "metadata": {
    "vscode": {
     "languageId": "plaintext"
    }
   },
   "outputs": [],
   "source": [
    "import os\n",
    "import numpy as np\n",
    "from PIL import Image\n",
    "from sklearn.model_selection import train_test_split\n",
    "import tensorflow as tf\n",
    "from tensorflow.keras import layers, models"
   ]
  },
  {
   "cell_type": "code",
   "execution_count": null,
   "id": "8fa9960f",
   "metadata": {
    "vscode": {
     "languageId": "plaintext"
    }
   },
   "outputs": [],
   "source": [
    "cat_dir = \"PetImages/Cat\"\n",
    "dog_dir = \"PetImages/Dog\"\n",
    "# Image size\n",
    "IMG_SIZE = 128"
   ]
  },
  {
   "cell_type": "code",
   "execution_count": null,
   "id": "aff9001e",
   "metadata": {
    "vscode": {
     "languageId": "plaintext"
    }
   },
   "outputs": [],
   "source": [
    "# Load images and labels into memory\n",
    "def load_images(folder, label):\n",
    "    images = []\n",
    "    labels = []\n",
    "    count = 1\n",
    "    # x = os.listdir(folder)\n",
    "    for filename in os.listdir(folder):\n",
    "        \n",
    "        if filename.lower().endswith(('jpg', 'jpeg', 'png')):\n",
    "            try:\n",
    "                path = os.path.join(folder, filename)\n",
    "                img = Image.open(path).convert(\"RGB\")\n",
    "                img = img.resize((IMG_SIZE, IMG_SIZE))\n",
    "                img = np.array(img) / 255.0  # Normalize\n",
    "                images.append(img)\n",
    "                labels.append(label)\n",
    "                count+=1\n",
    "                if count == 10:\n",
    "                    break\n",
    "            except:\n",
    "                continue  # Skip corrupted files\n",
    "    return images, labels\n"
   ]
<<<<<<< HEAD
  },
  {
   "cell_type": "code",
   "execution_count": null,
   "id": "07e69bec",
   "metadata": {
    "vscode": {
     "languageId": "plaintext"
    }
   },
   "outputs": [],
   "source": [
    "cat_images, cat_labels = load_images(cat_dir, 0)\n",
    "dog_images, dog_labels = load_images(dog_dir, 1)"
   ]
=======
  },
  {
   "cell_type": "code",
   "execution_count": null,
   "id": "cc1ac896",
   "metadata": {
    "vscode": {
     "languageId": "plaintext"
    }
   },
   "outputs": [],
   "source": [
    "cat_images, cat_labels = load_images(cat_dir, 0)\n",
    "dog_images, dog_labels = load_images(dog_dir, 1)"
   ]
>>>>>>> bb448207c482e7b92d965f10c4dbdeb0d95789ab
  }
 ],
 "metadata": {
  "language_info": {
   "name": "python"
  }
 },
 "nbformat": 4,
 "nbformat_minor": 5
}
