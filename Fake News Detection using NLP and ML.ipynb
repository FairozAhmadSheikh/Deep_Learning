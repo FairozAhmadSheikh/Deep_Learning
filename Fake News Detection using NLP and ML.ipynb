{
 "cells": [
  {
   "cell_type": "markdown",
   "id": "74b41e09",
   "metadata": {},
   "source": [
    "pip install tensorflow keras matplotlib nltk\n"
   ]
  },
  {
   "cell_type": "markdown",
   "id": "1f924f4c",
   "metadata": {},
   "source": [
    "https://www.kaggle.com/datasets/adityajn105/flickr8k\n",
    "dataset Flicker"
   ]
  },
  {
   "cell_type": "code",
   "execution_count": null,
   "id": "6beeb06f",
   "metadata": {
    "vscode": {
     "languageId": "plaintext"
    }
   },
   "outputs": [],
   "source": [
    "from tensorflow.keras.applications.inception_v3 import InceptionV3, preprocess_input\n",
    "from tensorflow.keras.preprocessing import image\n",
    "from tensorflow.keras.models import Model\n",
    "import numpy as np\n",
    "import os\n",
    "\n",
    "model = InceptionV3(weights='imagenet')\n",
    "cnn_model = Model(inputs=model.input, outputs=model.layers[-2].output) "
   ]
  },
  {
   "cell_type": "code",
   "execution_count": null,
   "id": "610a4be8",
   "metadata": {
    "vscode": {
     "languageId": "plaintext"
    }
   },
   "outputs": [],
   "source": [
    "def extract_features(directory):\n",
    "    features = {}\n",
    "    for img_name in os.listdir(directory):\n",
    "        img_path = os.path.join(directory, img_name)\n",
    "        img = image.load_img(img_path, target_size=(299, 299))\n",
    "        img = image.img_to_array(img)\n",
    "        img = np.expand_dims(img, axis=0)\n",
    "        img = preprocess_input(img)\n",
    "        feature = cnn_model.predict(img)\n",
    "        features[img_name] = feature\n",
    "    return features\n"
   ]
  },
  {
   "cell_type": "code",
   "execution_count": null,
   "id": "1bebac91",
   "metadata": {
    "vscode": {
     "languageId": "plaintext"
    }
   },
   "outputs": [],
   "source": [
    "import string\n",
    "import re\n",
    "\n",
    "def clean_caption(caption):\n",
    "    caption = caption.lower()\n",
    "    caption = re.sub(r\"[^a-zA-Z ]\", \"\", caption)\n",
    "    caption = 'startseq ' + caption + ' endseq'\n",
    "    return caption\n",
    "\n",
    "# Clean and tokenize all captions"
   ]
  },
  {
   "cell_type": "code",
   "execution_count": null,
   "id": "45f7fa0b",
   "metadata": {
    "vscode": {
     "languageId": "plaintext"
    }
   },
   "outputs": [],
   "source": [
    "from tensorflow.keras.preprocessing.text import Tokenizer\n",
    "from tensorflow.keras.preprocessing.sequence import pad_sequences\n",
    "\n",
    "tokenizer = Tokenizer()\n",
    "tokenizer.fit_on_texts(all_captions)  # List of all cleaned captions\n",
    "\n",
    "vocab_size = len(tokenizer.word_index) + 1\n",
    "max_length = max(len(c.split()) for c in all_captions)\n"
   ]
  },
  {
   "cell_type": "code",
   "execution_count": null,
   "id": "3b615fe8",
   "metadata": {
    "vscode": {
     "languageId": "plaintext"
    }
   },
   "outputs": [],
   "source": [
    "from tensorflow.keras.layers import Input, Dense, LSTM, Embedding, Dropout, add\n",
    "\n",
    "def define_model(vocab_size, max_length):\n",
    "    # Feature extractor (image input)\n",
    "    inputs1 = Input(shape=(2048,))\n",
    "    fe1 = Dropout(0.5)(inputs1)\n",
    "    fe2 = Dense(256, activation='relu')(fe1)\n",
    "\n",
    "    # Sequence processor (text input)\n",
    "    inputs2 = Input(shape=(max_length,))\n",
    "    se1 = Embedding(vocab_size, 256, mask_zero=True)(inputs2)\n",
    "    se2 = Dropout(0.5)(se1)\n",
    "    se3 = LSTM(256)(se2)\n",
    "\n",
    "    # Decoder (combine features)\n",
    "    decoder1 = add([fe2, se3])\n",
    "    decoder2 = Dense(256, activation='relu')(decoder1)\n",
    "    outputs = Dense(vocab_size, activation='softmax')(decoder2)\n",
    "\n",
    "    model = Model(inputs=[inputs1, inputs2], outputs=outputs)\n",
    "    model.compile(loss='categorical_crossentropy', optimizer='adam')\n",
    "    return model\n"
   ]
  }
 ],
 "metadata": {
  "language_info": {
   "name": "python"
  }
 },
 "nbformat": 4,
 "nbformat_minor": 5
}
