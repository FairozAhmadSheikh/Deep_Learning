{
 "cells": [
  {
   "cell_type": "markdown",
   "id": "74b41e09",
   "metadata": {},
   "source": [
    "pip install tensorflow keras matplotlib nltk\n"
   ]
  },
  {
   "cell_type": "markdown",
   "id": "1f924f4c",
   "metadata": {},
   "source": [
    "https://www.kaggle.com/datasets/adityajn105/flickr8k\n",
    "dataset Flicker"
   ]
  },
  {
   "cell_type": "code",
   "execution_count": null,
   "id": "6beeb06f",
   "metadata": {
    "vscode": {
     "languageId": "plaintext"
    }
   },
   "outputs": [],
   "source": [
    "from tensorflow.keras.applications.inception_v3 import InceptionV3, preprocess_input\n",
    "from tensorflow.keras.preprocessing import image\n",
    "from tensorflow.keras.models import Model\n",
    "import numpy as np\n",
    "import os\n",
    "\n",
    "model = InceptionV3(weights='imagenet')\n",
    "cnn_model = Model(inputs=model.input, outputs=model.layers[-2].output) "
   ]
  },
  {
   "cell_type": "code",
   "execution_count": null,
   "id": "610a4be8",
   "metadata": {
    "vscode": {
     "languageId": "plaintext"
    }
   },
   "outputs": [],
   "source": [
    "def extract_features(directory):\n",
    "    features = {}\n",
    "    for img_name in os.listdir(directory):\n",
    "        img_path = os.path.join(directory, img_name)\n",
    "        img = image.load_img(img_path, target_size=(299, 299))\n",
    "        img = image.img_to_array(img)\n",
    "        img = np.expand_dims(img, axis=0)\n",
    "        img = preprocess_input(img)\n",
    "        feature = cnn_model.predict(img)\n",
    "        features[img_name] = feature\n",
    "    return features\n"
   ]
  },
  {
   "cell_type": "code",
   "execution_count": null,
   "id": "1bebac91",
   "metadata": {
    "vscode": {
     "languageId": "plaintext"
    }
   },
   "outputs": [],
   "source": [
    "import string\n",
    "import re\n",
    "\n",
    "def clean_caption(caption):\n",
    "    caption = caption.lower()\n",
    "    caption = re.sub(r\"[^a-zA-Z ]\", \"\", caption)\n",
    "    caption = 'startseq ' + caption + ' endseq'\n",
    "    return caption\n",
    "\n",
    "# Clean and tokenize all captions"
   ]
  }
 ],
 "metadata": {
  "language_info": {
   "name": "python"
  }
 },
 "nbformat": 4,
 "nbformat_minor": 5
}
