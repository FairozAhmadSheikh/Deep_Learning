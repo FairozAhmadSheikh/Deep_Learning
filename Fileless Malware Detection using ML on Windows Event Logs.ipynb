{
 "cells": [
  {
   "cell_type": "code",
   "execution_count": null,
   "id": "5ab0159d",
   "metadata": {
    "vscode": {
     "languageId": "plaintext"
    }
   },
   "outputs": [],
   "source": [
    "import pandas as pd\n",
    "import numpy as np\n",
    "from sklearn.model_selection import train_test_split\n",
    "from sklearn.ensemble import RandomForestClassifier\n",
    "from sklearn.preprocessing import MinMaxScaler\n",
    "from sklearn.metrics import classification_report, confusion_matrix\n",
    "import matplotlib.pyplot as plt\n",
    "import seaborn as sns\n",
    "import joblib\n",
    "import os"
   ]
  },
  {
   "cell_type": "code",
   "execution_count": null,
   "id": "1f965538",
   "metadata": {
    "vscode": {
     "languageId": "plaintext"
    }
   },
   "outputs": [],
   "source": [
    "\n",
    "def load_dataset(path=\"event_logs.csv\"):\n",
    "    if not os.path.exists(path):\n",
    "        print(\"No dataset found. Generating synthetic event log data...\")\n",
    "\n",
    "        data = {\n",
    "            \"powershell_execs\": np.random.randint(0, 10, 1000),\n",
    "            \"script_block_events\": np.random.randint(0, 5, 1000),\n",
    "            \"wmi_calls\": np.random.randint(0, 3, 1000),\n",
    "            \"scheduled_tasks\": np.random.randint(0, 4, 1000),\n",
    "            \"registry_mods\": np.random.randint(0, 5, 1000),\n",
    "            \"network_connections\": np.random.randint(1, 20, 1000),\n",
    "            \"encoded_commands\": np.random.randint(0, 2, 1000),\n",
    "            \"is_malware\": np.random.randint(0, 2, 1000)\n",
    "        }\n",
    "\n",
    "        df = pd.DataFrame(data)\n",
    "        df.to_csv(path, index=False)\n",
    "    else:\n",
    "        df = pd.read_csv(path)\n",
    "\n",
    "    print(f\"Dataset loaded with shape: {df.shape}\")\n",
    "    return df"
   ]
  },
  {
   "cell_type": "code",
   "execution_count": null,
   "id": "44b6e365",
   "metadata": {
    "vscode": {
     "languageId": "plaintext"
    }
   },
   "outputs": [],
   "source": [
    "def preprocess(df):\n",
    "    X = df.drop(\"is_malware\", axis=1)\n",
    "    y = df[\"is_malware\"]\n",
    "    scaler = MinMaxScaler()\n",
    "    X_scaled = scaler.fit_transform(X)\n",
    "    return X_scaled, y, scaler\n"
   ]
  }
 ],
 "metadata": {
  "language_info": {
   "name": "python"
  }
 },
 "nbformat": 4,
 "nbformat_minor": 5
}
