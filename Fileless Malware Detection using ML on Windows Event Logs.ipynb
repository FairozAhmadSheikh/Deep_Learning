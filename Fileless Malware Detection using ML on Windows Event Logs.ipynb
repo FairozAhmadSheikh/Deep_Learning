{
 "cells": [
  {
   "cell_type": "code",
   "execution_count": null,
   "id": "5ab0159d",
   "metadata": {
    "vscode": {
     "languageId": "plaintext"
    }
   },
   "outputs": [],
   "source": [
    "import pandas as pd\n",
    "import numpy as np\n",
    "from sklearn.model_selection import train_test_split\n",
    "from sklearn.ensemble import RandomForestClassifier\n",
    "from sklearn.preprocessing import MinMaxScaler\n",
    "from sklearn.metrics import classification_report, confusion_matrix\n",
    "import matplotlib.pyplot as plt\n",
    "import seaborn as sns\n",
    "import joblib\n",
    "import os"
   ]
  },
  {
   "cell_type": "code",
   "execution_count": null,
   "id": "1f965538",
   "metadata": {
    "vscode": {
     "languageId": "plaintext"
    }
   },
   "outputs": [],
   "source": [
    "\n",
    "def load_dataset(path=\"event_logs.csv\"):\n",
    "    if not os.path.exists(path):\n",
    "        print(\"No dataset found. Generating synthetic event log data...\")\n",
    "\n",
    "        data = {\n",
    "            \"powershell_execs\": np.random.randint(0, 10, 1000),\n",
    "            \"script_block_events\": np.random.randint(0, 5, 1000),\n",
    "            \"wmi_calls\": np.random.randint(0, 3, 1000),\n",
    "            \"scheduled_tasks\": np.random.randint(0, 4, 1000),\n",
    "            \"registry_mods\": np.random.randint(0, 5, 1000),\n",
    "            \"network_connections\": np.random.randint(1, 20, 1000),\n",
    "            \"encoded_commands\": np.random.randint(0, 2, 1000),\n",
    "            \"is_malware\": np.random.randint(0, 2, 1000)\n",
    "        }\n",
    "\n",
    "        df = pd.DataFrame(data)\n",
    "        df.to_csv(path, index=False)\n",
    "    else:\n",
    "        df = pd.read_csv(path)\n",
    "\n",
    "    print(f\"Dataset loaded with shape: {df.shape}\")\n",
    "    return df"
   ]
  },
  {
   "cell_type": "code",
   "execution_count": null,
   "id": "44b6e365",
   "metadata": {
    "vscode": {
     "languageId": "plaintext"
    }
   },
   "outputs": [],
   "source": [
    "def preprocess(df):\n",
    "    X = df.drop(\"is_malware\", axis=1)\n",
    "    y = df[\"is_malware\"]\n",
    "    scaler = MinMaxScaler()\n",
    "    X_scaled = scaler.fit_transform(X)\n",
    "    return X_scaled, y, scaler\n"
   ]
  },
  {
   "cell_type": "code",
   "execution_count": null,
   "id": "7ce2470c",
   "metadata": {
    "vscode": {
     "languageId": "plaintext"
    }
   },
   "outputs": [],
   "source": [
    "def train_model(X_train, y_train):\n",
    "    clf = RandomForestClassifier(n_estimators=100, random_state=42)\n",
    "    clf.fit(X_train, y_train)\n",
    "    return clf\n"
   ]
  },
  {
   "cell_type": "code",
   "execution_count": null,
   "id": "3beac396",
   "metadata": {
    "vscode": {
     "languageId": "plaintext"
    }
   },
   "outputs": [],
   "source": [
    "def evaluate(model, X_test, y_test):\n",
    "    y_pred = model.predict(X_test)\n",
    "    print(\"\\nClassification Report:\\n\", classification_report(y_test, y_pred))\n",
    "    cm = confusion_matrix(y_test, y_pred)\n",
    "    sns.heatmap(cm, annot=True, fmt=\"d\", cmap=\"Purples\")\n",
    "    plt.title(\"Confusion Matrix\")\n",
    "    plt.xlabel(\"Predicted\")\n",
    "    plt.ylabel(\"Actual\")\n",
    "    plt.show()"
   ]
  },
  {
   "cell_type": "code",
   "execution_count": null,
   "id": "169f07a9",
   "metadata": {
    "vscode": {
     "languageId": "plaintext"
    }
   },
   "outputs": [],
   "source": [
    "def save(model, scaler):\n",
    "    os.makedirs(\"models\", exist_ok=True)\n",
    "    joblib.dump(model, \"models/fileless_rf_model.pkl\")\n",
    "    joblib.dump(scaler, \"models/fileless_scaler.pkl\")\n",
    "    print(\"Saved model and scaler to 'models/'\")"
   ]
  },
  {
   "cell_type": "code",
   "execution_count": null,
   "id": "4ea2a728",
   "metadata": {
    "vscode": {
     "languageId": "plaintext"
    }
   },
   "outputs": [],
   "source": [
    "if __name__ == \"__main__\":\n",
    "    df = load_dataset()\n",
    "    X, y, scaler = preprocess(df)\n",
    "    X_train, X_test, y_train, y_test = train_test_split(X, y, test_size=0.2, random_state=42)\n",
    "    model = train_model(X_train, y_train)\n",
    "    evaluate(model, X_test, y_test)\n",
    "    save(model, scaler)"
   ]
  }
 ],
 "metadata": {
  "language_info": {
   "name": "python"
  }
 },
 "nbformat": 4,
 "nbformat_minor": 5
}
