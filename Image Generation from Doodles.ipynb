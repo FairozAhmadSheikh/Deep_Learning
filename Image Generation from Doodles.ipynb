{
 "cells": [
  {
   "cell_type": "code",
   "execution_count": null,
   "id": "3d443f19",
   "metadata": {
    "vscode": {
     "languageId": "plaintext"
    }
   },
   "outputs": [],
   "source": [
    "import torch\n",
    "import torch.nn as nn\n",
    "import torch.nn.functional as F\n",
    "from torchvision import transforms\n",
    "from PIL import Image\n",
    "import numpy as np\n",
    "import matplotlib.pyplot as plt\n"
   ]
  },
  {
   "cell_type": "code",
   "execution_count": null,
   "id": "3b86cbbc",
   "metadata": {
    "vscode": {
     "languageId": "plaintext"
    }
   },
   "outputs": [],
   "source": [
    "class SketchEncoder(nn.Module):\n",
    "    \"\"\"Encodes sketch/doodle into a latent representation\"\"\"\n",
    "    def __init__(self):\n",
    "        super(SketchEncoder, self).__init__()\n",
    "        self.conv1 = nn.Conv2d(1, 64, 4, stride=2, padding=1)\n",
    "        self.conv2 = nn.Conv2d(64, 128, 4, stride=2, padding=1)\n",
    "        self.conv3 = nn.Conv2d(128, 256, 4, stride=2, padding=1)\n",
    "        self.conv4 = nn.Conv2d(256, 512, 4, stride=2, padding=1)\n",
    "        self.fc = nn.Linear(512*8*8, 256)"
   ]
  },
  {
   "cell_type": "code",
   "execution_count": null,
   "id": "ce07507b",
   "metadata": {
    "vscode": {
     "languageId": "plaintext"
    }
   },
   "outputs": [],
   "source": [
    "\n",
    "        \n",
    "    def forward(self, x):\n",
    "        x = F.leaky_relu(self.conv1(x), 0.2)\n",
    "        x = F.leaky_relu(self.conv2(x), 0.2)\n",
    "        x = F.leaky_relu(self.conv3(x), 0.2)\n",
    "        x = F.leaky_relu(self.conv4(x), 0.2)\n",
    "        x = x.view(x.size(0), -1)\n",
    "        return self.fc(x)"
   ]
  },
  {
   "cell_type": "code",
   "execution_count": null,
   "id": "c115a97f",
   "metadata": {
    "vscode": {
     "languageId": "plaintext"
    }
   },
   "outputs": [],
   "source": [
    "class ImageGenerator(nn.Module):\n",
    "    \"\"\"Generates photorealistic image from latent representation\"\"\"\n",
    "    def __init__(self):\n",
    "        super(ImageGenerator, self).__init__()\n",
    "        self.fc = nn.Linear(256, 512*8*8)\n",
    "        self.deconv1 = nn.ConvTranspose2d(512, 256, 4, stride=2, padding=1)\n",
    "        self.deconv2 = nn.ConvTranspose2d(256, 128, 4, stride=2, padding=1)\n",
    "        self.deconv3 = nn.ConvTranspose2d(128, 64, 4, stride=2, padding=1)\n",
    "        self.deconv4 = nn.ConvTranspose2d(64, 3, 4, stride=2, padding=1)\n",
    "        "
   ]
  },
  {
   "cell_type": "code",
   "execution_count": null,
   "id": "19725407",
   "metadata": {
    "vscode": {
     "languageId": "plaintext"
    }
   },
   "outputs": [],
   "source": [
    "\n",
    "    def forward(self, z):\n",
    "        x = F.relu(self.fc(z))\n",
    "        x = x.view(x.size(0), 512, 8, 8)\n",
    "        x = F.relu(self.deconv1(x))\n",
    "        x = F.relu(self.deconv2(x))\n",
    "        x = F.relu(self.deconv3(x))\n",
    "        x = torch.tanh(self.deconv4(x))\n",
    "        return x"
   ]
  }
 ],
 "metadata": {
  "language_info": {
   "name": "python"
  }
 },
 "nbformat": 4,
 "nbformat_minor": 5
}
