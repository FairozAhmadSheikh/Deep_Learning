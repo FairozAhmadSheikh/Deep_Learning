{
 "cells": [
  {
   "cell_type": "code",
   "execution_count": null,
   "id": "3d443f19",
   "metadata": {
    "vscode": {
     "languageId": "plaintext"
    }
   },
   "outputs": [],
   "source": [
    "import torch\n",
    "import torch.nn as nn\n",
    "import torch.nn.functional as F\n",
    "from torchvision import transforms\n",
    "from PIL import Image\n",
    "import numpy as np\n",
    "import matplotlib.pyplot as plt\n"
   ]
  },
  {
   "cell_type": "code",
   "execution_count": null,
   "id": "3b86cbbc",
   "metadata": {
    "vscode": {
     "languageId": "plaintext"
    }
   },
   "outputs": [],
   "source": [
    "class SketchEncoder(nn.Module):\n",
    "    \"\"\"Encodes sketch/doodle into a latent representation\"\"\"\n",
    "    def __init__(self):\n",
    "        super(SketchEncoder, self).__init__()\n",
    "        self.conv1 = nn.Conv2d(1, 64, 4, stride=2, padding=1)\n",
    "        self.conv2 = nn.Conv2d(64, 128, 4, stride=2, padding=1)\n",
    "        self.conv3 = nn.Conv2d(128, 256, 4, stride=2, padding=1)\n",
    "        self.conv4 = nn.Conv2d(256, 512, 4, stride=2, padding=1)\n",
    "        self.fc = nn.Linear(512*8*8, 256)"
   ]
  },
  {
   "cell_type": "code",
   "execution_count": null,
   "id": "ce07507b",
   "metadata": {
    "vscode": {
     "languageId": "plaintext"
    }
   },
   "outputs": [],
   "source": [
    "\n",
    "        \n",
    "    def forward(self, x):\n",
    "        x = F.leaky_relu(self.conv1(x), 0.2)\n",
    "        x = F.leaky_relu(self.conv2(x), 0.2)\n",
    "        x = F.leaky_relu(self.conv3(x), 0.2)\n",
    "        x = F.leaky_relu(self.conv4(x), 0.2)\n",
    "        x = x.view(x.size(0), -1)\n",
    "        return self.fc(x)"
   ]
  },
  {
   "cell_type": "code",
   "execution_count": null,
   "id": "c115a97f",
   "metadata": {
    "vscode": {
     "languageId": "plaintext"
    }
   },
   "outputs": [],
   "source": [
    "class ImageGenerator(nn.Module):\n",
    "    \"\"\"Generates photorealistic image from latent representation\"\"\"\n",
    "    def __init__(self):\n",
    "        super(ImageGenerator, self).__init__()\n",
    "        self.fc = nn.Linear(256, 512*8*8)\n",
    "        self.deconv1 = nn.ConvTranspose2d(512, 256, 4, stride=2, padding=1)\n",
    "        self.deconv2 = nn.ConvTranspose2d(256, 128, 4, stride=2, padding=1)\n",
    "        self.deconv3 = nn.ConvTranspose2d(128, 64, 4, stride=2, padding=1)\n",
    "        self.deconv4 = nn.ConvTranspose2d(64, 3, 4, stride=2, padding=1)\n",
    "        "
   ]
  },
  {
   "cell_type": "code",
   "execution_count": null,
   "id": "19725407",
   "metadata": {
    "vscode": {
     "languageId": "plaintext"
    }
   },
   "outputs": [],
   "source": [
    "\n",
    "    def forward(self, z):\n",
    "        x = F.relu(self.fc(z))\n",
    "        x = x.view(x.size(0), 512, 8, 8)\n",
    "        x = F.relu(self.deconv1(x))\n",
    "        x = F.relu(self.deconv2(x))\n",
    "        x = F.relu(self.deconv3(x))\n",
    "        x = torch.tanh(self.deconv4(x))\n",
    "        return x"
   ]
  },
  {
   "cell_type": "code",
   "execution_count": null,
   "id": "1e7a9c90",
   "metadata": {
    "vscode": {
     "languageId": "plaintext"
    }
   },
   "outputs": [],
   "source": [
    "class StyleTransferModule(nn.Module):\n",
    "    \"\"\"Applies artistic style while preserving composition\"\"\"\n",
    "    def __init__(self):\n",
    "        super(StyleTransferModule, self).__init__()\n",
    "        # Pretrained VGG for style extraction\n",
    "        self.vgg = torch.hub.load('pytorch/vision:v0.10.0', 'vgg19', pretrained=True)\n",
    "        for param in self.vgg.parameters():\n",
    "            param.requires_grad = False"
   ]
  },
  {
   "cell_type": "code",
   "execution_count": null,
   "id": "2d0b47a2",
   "metadata": {
    "vscode": {
     "languageId": "plaintext"
    }
   },
   "outputs": [],
   "source": [
    "           \n",
    "    def forward(self, generated_img, style_img):\n",
    "        # Extract features at different layers\n",
    "        gen_features = self._extract_features(generated_img)\n",
    "        style_features = self._extract_features(style_img)\n",
    "        \n",
    "        # Calculate style loss\n",
    "        style_loss = 0\n",
    "        for gen_feat, style_feat in zip(gen_features, style_features):\n",
    "            # Gram matrix calculation\n",
    "            G = gen_feat @ gen_feat.t()\n",
    "            A = style_feat @ style_feat.t()\n",
    "            style_loss += F.mse_loss(G, A)\n",
    "            \n",
    "        return style_loss"
   ]
  },
  {
   "cell_type": "code",
   "execution_count": null,
   "id": "bd94dc4f",
   "metadata": {
    "vscode": {
     "languageId": "plaintext"
    }
   },
   "outputs": [],
   "source": [
    "class DreamSketch(nn.Module):\n",
    "    \"\"\"Main model combining all components\"\"\"\n",
    "    def __init__(self):\n",
    "        super(DreamSketch, self).__init__()\n",
    "        self.sketch_encoder = SketchEncoder()\n",
    "        self.image_generator = ImageGenerator()\n",
    "        self.style_transfer = StyleTransferModule()\n",
    "        \n",
    "    def forward(self, sketch, style_img=None):\n",
    "        z = self.sketch_encoder(sketch)\n",
    "        generated_img = self.image_generator(z)\n",
    "        \n",
    "        if style_img is not None:\n",
    "            style_loss = self.style_transfer(generated_img, style_img)\n",
    "            return generated_img, style_loss\n",
    "        return generated_img"
   ]
  },
  {
   "cell_type": "code",
   "execution_count": null,
   "id": "41b6fe93",
   "metadata": {
    "vscode": {
     "languageId": "plaintext"
    }
   },
   "outputs": [],
   "source": [
    "def train_model():\n",
    "    device = torch.device(\"cuda\" if torch.cuda.is_available() else \"cpu\")\n",
    "    \n",
    "    # Initialize model\n",
    "    model = DreamSketch().to(device)\n",
    "    \n",
    "    # Loss functions and optimizer\n",
    "    reconstruction_loss = nn.L1Loss()\n",
    "    optimizer = torch.optim.Adam(model.parameters(), lr=0.0002, betas=(0.5, 0.999))"
   ]
  },
  {
   "cell_type": "code",
   "execution_count": null,
   "id": "6127c42a",
   "metadata": {
    "vscode": {
     "languageId": "plaintext"
    }
   },
   "outputs": [],
   "source": [
    " # Training loop (simplified)\n",
    "    for epoch in range(100):\n",
    "        for i, (sketch_batch, photo_batch, style_batch) in enumerate(train_loader):\n",
    "            sketch_batch = sketch_batch.to(device)\n",
    "            photo_batch = photo_batch.to(device)\n",
    "            style_batch = style_batch.to(device)\n",
    "            \n",
    "            # Generate image and calculate losses\n",
    "            generated_img, style_loss = model(sketch_batch, style_batch)\n",
    "            recon_loss = reconstruction_loss(generated_img, photo_batch)\n",
    "            total_loss = recon_loss + 0.1 * style_loss\n",
    "            \n",
    "            # Backpropagation\n",
    "            optimizer.zero_grad()\n",
    "            total_loss.backward()\n",
    "            optimizer.step()\n",
    "            \n",
    "        print(f\"Epoch {epoch}, Loss: {total_loss.item()}\")"
   ]
  }
 ],
 "metadata": {
  "language_info": {
   "name": "python"
  }
 },
 "nbformat": 4,
 "nbformat_minor": 5
}
