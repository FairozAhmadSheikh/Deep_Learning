{
 "cells": [
  {
   "cell_type": "code",
   "execution_count": null,
   "id": "3d443f19",
   "metadata": {
    "vscode": {
     "languageId": "plaintext"
    }
   },
   "outputs": [],
   "source": [
    "import torch\n",
    "import torch.nn as nn\n",
    "import torch.nn.functional as F\n",
    "from torchvision import transforms\n",
    "from PIL import Image\n",
    "import numpy as np\n",
    "import matplotlib.pyplot as plt\n"
   ]
  },
  {
   "cell_type": "code",
   "execution_count": null,
   "id": "3b86cbbc",
   "metadata": {
    "vscode": {
     "languageId": "plaintext"
    }
   },
   "outputs": [],
   "source": [
    "class SketchEncoder(nn.Module):\n",
    "    \"\"\"Encodes sketch/doodle into a latent representation\"\"\"\n",
    "    def __init__(self):\n",
    "        super(SketchEncoder, self).__init__()\n",
    "        self.conv1 = nn.Conv2d(1, 64, 4, stride=2, padding=1)\n",
    "        self.conv2 = nn.Conv2d(64, 128, 4, stride=2, padding=1)\n",
    "        self.conv3 = nn.Conv2d(128, 256, 4, stride=2, padding=1)\n",
    "        self.conv4 = nn.Conv2d(256, 512, 4, stride=2, padding=1)\n",
    "        self.fc = nn.Linear(512*8*8, 256)"
   ]
  },
  {
   "cell_type": "code",
   "execution_count": null,
   "id": "ce07507b",
   "metadata": {
    "vscode": {
     "languageId": "plaintext"
    }
   },
   "outputs": [],
   "source": [
    "\n",
    "        \n",
    "    def forward(self, x):\n",
    "        x = F.leaky_relu(self.conv1(x), 0.2)\n",
    "        x = F.leaky_relu(self.conv2(x), 0.2)\n",
    "        x = F.leaky_relu(self.conv3(x), 0.2)\n",
    "        x = F.leaky_relu(self.conv4(x), 0.2)\n",
    "        x = x.view(x.size(0), -1)\n",
    "        return self.fc(x)"
   ]
  }
 ],
 "metadata": {
  "language_info": {
   "name": "python"
  }
 },
 "nbformat": 4,
 "nbformat_minor": 5
}
