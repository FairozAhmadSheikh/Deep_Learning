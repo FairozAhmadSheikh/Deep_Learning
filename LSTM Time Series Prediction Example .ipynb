{
 "cells": [
  {
   "cell_type": "code",
   "execution_count": null,
   "id": "aff041a6",
   "metadata": {
    "vscode": {
     "languageId": "plaintext"
    }
   },
   "outputs": [],
   "source": [
    "import numpy as np\n",
    "import matplotlib.pyplot as plt\n",
    "from tensorflow.keras.models import Sequential\n",
    "from tensorflow.keras.layers import LSTM, Dense\n",
    "from sklearn.preprocessing import MinMaxScaler"
   ]
  },
  {
   "cell_type": "code",
   "execution_count": null,
   "id": "43770f88",
   "metadata": {
    "vscode": {
     "languageId": "plaintext"
    }
   },
   "outputs": [],
   "source": [
    "# Step 1: Generate synthetic time series data (sine wave)\n",
    "def generate_data(seq_length=1000):\n",
    "    x = np.linspace(0, 50, seq_length)\n",
    "    y = np.sin(x)\n",
    "    return y.reshape(-1, 1)\n"
   ]
  },
  {
   "cell_type": "code",
   "execution_count": null,
   "id": "8f4dcca3",
   "metadata": {
    "vscode": {
     "languageId": "plaintext"
    }
   },
   "outputs": [],
   "source": [
    "# Step 2: Prepare dataset for LSTM\n",
    "def prepare_dataset(series, look_back=20):\n",
    "    X, y = [], []\n",
    "    for i in range(len(series) - look_back):\n",
    "        X.append(series[i:i + look_back])\n",
    "        y.append(series[i + look_back])\n",
    "    return np.array(X), np.array(y)"
   ]
  },
  {
   "cell_type": "code",
   "execution_count": null,
   "id": "8c104da7",
   "metadata": {
    "vscode": {
     "languageId": "plaintext"
    }
   },
   "outputs": [],
   "source": [
    "# Step 3: Load and scale the data\n",
    "data = generate_data()\n",
    "scaler = MinMaxScaler()\n",
    "data_scaled = scaler.fit_transform(data)\n",
    "\n",
    "look_back = 20\n",
    "X, y = prepare_dataset(data_scaled, look_back)\n"
   ]
  },
  {
   "cell_type": "code",
   "execution_count": null,
   "id": "33016823",
   "metadata": {
    "vscode": {
     "languageId": "plaintext"
    }
   },
   "outputs": [],
   "source": [
    "# LSTM input: [samples, time steps, features]\n",
    "X = X.reshape((X.shape[0], X.shape[1], 1))\n"
   ]
  },
  {
   "cell_type": "code",
   "execution_count": null,
   "id": "2d23c526",
   "metadata": {
    "vscode": {
     "languageId": "plaintext"
    }
   },
   "outputs": [],
   "source": [
    "# Step 4: Define LSTM model\n",
    "model = Sequential([\n",
    "    LSTM(50, activation='relu', input_shape=(look_back, 1)),\n",
    "    Dense(1)\n",
    "])"
   ]
  },
  {
   "cell_type": "code",
   "execution_count": null,
   "id": "7e66c9f9",
   "metadata": {
    "vscode": {
     "languageId": "plaintext"
    }
   },
   "outputs": [],
   "source": [
    "model.compile(optimizer='adam', loss='mse')"
   ]
  },
  {
   "cell_type": "code",
   "execution_count": null,
   "id": "a7a79a76",
   "metadata": {
    "vscode": {
     "languageId": "plaintext"
    }
   },
   "outputs": [],
   "source": [
    "# Step 5: Train the model\n",
    "model.fit(X, y, epochs=20, batch_size=32, verbose=1)\n",
    "\n",
    "# Step 6: Predict and plot\n",
    "predictions = model.predict(X)\n",
    "predicted = scaler.inverse_transform(predictions)\n",
    "original = scaler.inverse_transform(y.reshape(-1, 1))"
   ]
  },
  {
   "cell_type": "code",
   "execution_count": null,
   "id": "16dbfedb",
   "metadata": {
    "vscode": {
     "languageId": "plaintext"
    }
   },
   "outputs": [],
   "source": [
    "plt.figure(figsize=(12, 6))\n",
    "plt.plot(original, label='Original Data')\n",
    "plt.plot(predicted, label='Predicted Data')\n",
    "plt.title(\"Time Series Prediction using LSTM\")\n",
    "plt.xlabel(\"Time\")\n",
    "plt.ylabel(\"Value\")\n",
    "plt.legend()\n",
    "plt.show()"
   ]
  }
 ],
 "metadata": {
  "language_info": {
   "name": "python"
  }
 },
 "nbformat": 4,
 "nbformat_minor": 5
}
