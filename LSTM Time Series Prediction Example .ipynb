{
 "cells": [
  {
   "cell_type": "code",
   "execution_count": null,
   "id": "aff041a6",
   "metadata": {
    "vscode": {
     "languageId": "plaintext"
    }
   },
   "outputs": [],
   "source": [
    "import numpy as np\n",
    "import matplotlib.pyplot as plt\n",
    "from tensorflow.keras.models import Sequential\n",
    "from tensorflow.keras.layers import LSTM, Dense\n",
    "from sklearn.preprocessing import MinMaxScaler"
   ]
  },
  {
   "cell_type": "code",
   "execution_count": null,
   "id": "43770f88",
   "metadata": {
    "vscode": {
     "languageId": "plaintext"
    }
   },
   "outputs": [],
   "source": [
    "# Step 1: Generate synthetic time series data (sine wave)\n",
    "def generate_data(seq_length=1000):\n",
    "    x = np.linspace(0, 50, seq_length)\n",
    "    y = np.sin(x)\n",
    "    return y.reshape(-1, 1)\n"
   ]
  },
  {
   "cell_type": "code",
   "execution_count": null,
   "id": "8f4dcca3",
   "metadata": {
    "vscode": {
     "languageId": "plaintext"
    }
   },
   "outputs": [],
   "source": [
    "# Step 2: Prepare dataset for LSTM\n",
    "def prepare_dataset(series, look_back=20):\n",
    "    X, y = [], []\n",
    "    for i in range(len(series) - look_back):\n",
    "        X.append(series[i:i + look_back])\n",
    "        y.append(series[i + look_back])\n",
    "    return np.array(X), np.array(y)"
   ]
  }
 ],
 "metadata": {
  "language_info": {
   "name": "python"
  }
 },
 "nbformat": 4,
 "nbformat_minor": 5
}
