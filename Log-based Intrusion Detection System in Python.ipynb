{
 "cells": [
  {
   "cell_type": "code",
   "execution_count": null,
   "id": "a1a2fd42",
   "metadata": {
    "vscode": {
     "languageId": "plaintext"
    }
   },
   "outputs": [],
   "source": [
    "import re\n",
    "import pandas as pd\n",
    "from collections import Counter\n",
    "import matplotlib.pyplot as plt\n",
    "from datetime import datetime\n",
    "import requests"
   ]
  },
  {
   "cell_type": "code",
   "execution_count": null,
   "id": "3e40c80d",
   "metadata": {
    "vscode": {
     "languageId": "plaintext"
    }
   },
   "outputs": [],
   "source": [
    "# Path to auth log (works on Unix/Linux)\n",
    "LOG_PATH = \"/var/log/auth.log\"\n",
    "\n",
    "# Store parsed results\n",
    "failed_logins = []\n"
   ]
  },
  {
   "cell_type": "code",
   "execution_count": null,
   "id": "36046145",
   "metadata": {
    "vscode": {
     "languageId": "plaintext"
    }
   },
   "outputs": [],
   "source": [
    "# Regex to parse log lines\n",
    "pattern = re.compile(r'^(\\w{3}\\s+\\d+\\s[\\d:]+)\\s[\\w-]+\\s.*sshd.*Failed password.*from\\s([\\d.]+)')\n",
    "\n",
    "with open(LOG_PATH, 'r', encoding='utf-8', errors='ignore') as f:\n",
    "    for line in f:\n",
    "        match = pattern.search(line)\n",
    "        if match:\n",
    "            timestamp_str, ip = match.groups()\n",
    "            timestamp = datetime.strptime(timestamp_str, \"%b %d %H:%M:%S\")\n",
    "            failed_logins.append({'time': timestamp, 'ip': ip})\n"
   ]
  }
 ],
 "metadata": {
  "language_info": {
   "name": "python"
  }
 },
 "nbformat": 4,
 "nbformat_minor": 5
}
