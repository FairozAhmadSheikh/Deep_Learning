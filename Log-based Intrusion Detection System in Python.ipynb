{
 "cells": [
  {
   "cell_type": "code",
   "execution_count": null,
   "id": "a1a2fd42",
   "metadata": {
    "vscode": {
     "languageId": "plaintext"
    }
   },
   "outputs": [],
   "source": [
    "import re\n",
    "import pandas as pd\n",
    "from collections import Counter\n",
    "import matplotlib.pyplot as plt\n",
    "from datetime import datetime\n",
    "import requests"
   ]
  },
  {
   "cell_type": "code",
   "execution_count": null,
   "id": "3e40c80d",
   "metadata": {
    "vscode": {
     "languageId": "plaintext"
    }
   },
   "outputs": [],
   "source": [
    "# Path to auth log (works on Unix/Linux)\n",
    "LOG_PATH = \"/var/log/auth.log\"\n",
    "\n",
    "# Store parsed results\n",
    "failed_logins = []\n"
   ]
  },
  {
   "cell_type": "code",
   "execution_count": null,
   "id": "36046145",
   "metadata": {
    "vscode": {
     "languageId": "plaintext"
    }
   },
   "outputs": [],
   "source": [
    "# Regex to parse log lines\n",
    "pattern = re.compile(r'^(\\w{3}\\s+\\d+\\s[\\d:]+)\\s[\\w-]+\\s.*sshd.*Failed password.*from\\s([\\d.]+)')\n",
    "\n",
    "with open(LOG_PATH, 'r', encoding='utf-8', errors='ignore') as f:\n",
    "    for line in f:\n",
    "        match = pattern.search(line)\n",
    "        if match:\n",
    "            timestamp_str, ip = match.groups()\n",
    "            timestamp = datetime.strptime(timestamp_str, \"%b %d %H:%M:%S\")\n",
    "            failed_logins.append({'time': timestamp, 'ip': ip})\n"
   ]
  },
  {
   "cell_type": "code",
   "execution_count": null,
   "id": "cc8532f6",
   "metadata": {
    "vscode": {
     "languageId": "plaintext"
    }
   },
   "outputs": [],
   "source": [
    "df = pd.DataFrame(failed_logins)\n",
    "df.head()"
   ]
  },
  {
   "cell_type": "code",
   "execution_count": null,
   "id": "310023c7",
   "metadata": {
    "vscode": {
     "languageId": "plaintext"
    }
   },
   "outputs": [],
   "source": [
    "# Count failed login attempts per IP\n",
    "ip_counts = df['ip'].value_counts()\n",
    "print(\"Top 10 suspicious IPs:\\n\")\n",
    "print(ip_counts.head(10))"
   ]
  },
  {
   "cell_type": "code",
   "execution_count": null,
   "id": "37179844",
   "metadata": {
    "vscode": {
     "languageId": "plaintext"
    }
   },
   "outputs": [],
   "source": [
    "# Visualize attempts over time\n",
    "df.set_index('time').resample('H').count()['ip'].plot(figsize=(10,4), title='Failed Logins Over Time', grid=True)\n",
    "plt.ylabel(\"Attempts\")\n",
    "plt.show()"
   ]
  },
  {
   "cell_type": "code",
   "execution_count": null,
   "id": "16d86525",
   "metadata": {
    "vscode": {
     "languageId": "plaintext"
    }
   },
   "outputs": [],
   "source": [
    "# Detect brute-force attacks (e.g., > 5 failed logins)\n",
    "suspicious_ips = ip_counts[ip_counts > 5]\n",
    "print(\"\\nIPs with >5 failed attempts:\\n\", suspicious_ips)"
   ]
  }
 ],
 "metadata": {
  "language_info": {
   "name": "python"
  }
 },
 "nbformat": 4,
 "nbformat_minor": 5
}
