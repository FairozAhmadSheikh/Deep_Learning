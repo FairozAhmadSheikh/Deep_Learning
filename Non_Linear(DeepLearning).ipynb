{
 "cells": [
  {
   "cell_type": "code",
   "execution_count": null,
   "id": "e04b50b9",
   "metadata": {
    "vscode": {
     "languageId": "plaintext"
    }
   },
   "outputs": [],
   "source": [
    "import numpy as np\n",
    "import tensorflow as tf\n",
    "from tensorflow.keras.models import Model\n",
    "from tensorflow.keras.layers import Input, Dense\n",
    "from sklearn.model_selection import train_test_split\n",
    "from sklearn.preprocessing import LabelEncoder\n",
    "from tensorflow.keras.utils import to_categorical"
   ]
  },
  {
   "cell_type": "code",
   "execution_count": null,
   "id": "741d0d8f",
   "metadata": {
    "vscode": {
     "languageId": "plaintext"
    }
   },
   "outputs": [],
   "source": [
    "# 1. Generate sample data\n",
    "np.random.seed(42)\n",
    "\n",
    "num_samples = 1000\n",
    "\n",
    "# Inputs: height (150-200 cm), weight (40-100 kg), income (20k-100k)\n",
    "X = np.random.rand(num_samples, 3)\n",
    "X[:, 0] = X[:, 0] * 50 + 150     # height\n",
    "X[:, 1] = X[:, 1] * 60 + 40      # weight\n",
    "X[:, 2] = X[:, 2] * 80000 + 20000  # income"
   ]
  },
  {
   "cell_type": "code",
   "execution_count": null,
   "id": "2af22612",
   "metadata": {
    "vscode": {
     "languageId": "plaintext"
    }
   },
   "outputs": [],
   "source": [
    "# Output 1: Age (regression, 18–60 years)\n",
    "y_age = X[:, 0] * 0.3 + X[:, 1] * 0.2 + X[:, 2] * 0.0001 + np.random.randn(num_samples) * 2\n",
    "y_age = np.clip(y_age, 18, 60)\n",
    "\n",
    "# Output 2: City (classification - Delhi, Mumbai, Bangalore)\n",
    "cities = np.random.choice(['Delhi', 'Mumbai', 'Bangalore'], size=num_samples)\n",
    "label_encoder = LabelEncoder()\n",
    "y_city = label_encoder.fit_transform(cities)\n",
    "y_city_cat = to_categorical(y_city, num_classes=3)"
   ]
  },
  {
   "cell_type": "code",
   "execution_count": null,
   "id": "10433795",
   "metadata": {
    "vscode": {
     "languageId": "plaintext"
    }
   },
   "outputs": [],
   "source": [
    "# 2. Split into train/test\n",
    "X_train, X_test, y_age_train, y_age_test, y_city_train, y_city_test = train_test_split(\n",
    "    X, y_age, y_city_cat, test_size=0.2, random_state=42\n",
    ")\n"
   ]
  },
  {
   "cell_type": "code",
   "execution_count": null,
   "id": "4494c570",
   "metadata": {
    "vscode": {
     "languageId": "plaintext"
    }
   },
   "outputs": [],
   "source": [
    "# 3. Functional API model\n",
    "inputs = Input(shape=(3,))\n",
    "x = Dense(64, activation='relu')(inputs)\n",
    "x = Dense(32, activation='relu')(x)"
   ]
  },
  {
   "cell_type": "code",
   "execution_count": null,
   "id": "659e1a32",
   "metadata": {
    "vscode": {
     "languageId": "plaintext"
    }
   },
   "outputs": [],
   "source": [
    "# Output 1: Age (regression)\n",
    "age_output = Dense(1, name='age_output')(x)"
   ]
  },
  {
   "cell_type": "code",
   "execution_count": null,
   "id": "f9f415b5",
   "metadata": {
    "vscode": {
     "languageId": "plaintext"
    }
   },
   "outputs": [],
   "source": [
    "# Output 2: City (classification)\n",
    "city_output = Dense(3, activation='softmax', name='city_output')(x)"
   ]
  },
  {
   "cell_type": "code",
   "execution_count": null,
   "id": "61c7ab54",
   "metadata": {
    "vscode": {
     "languageId": "plaintext"
    }
   },
   "outputs": [],
   "source": [
    "# Build model\n",
    "model = Model(inputs=inputs, outputs=[age_output, city_output])"
   ]
  },
  {
   "cell_type": "code",
   "execution_count": null,
   "id": "59a33193",
   "metadata": {
    "vscode": {
     "languageId": "plaintext"
    }
   },
   "outputs": [],
   "source": [
    "# 4. Compile the model\n",
    "model.compile(\n",
    "    optimizer='adam',\n",
    "    loss={\n",
    "        'age_output': 'mse',\n",
    "        'city_output': 'categorical_crossentropy'\n",
    "    },\n",
    "    metrics={\n",
    "        'age_output': 'mae',\n",
    "        'city_output': 'accuracy'\n",
    "    }\n",
    ")"
   ]
  },
  {
   "cell_type": "code",
   "execution_count": null,
   "id": "3b329067",
   "metadata": {
    "vscode": {
     "languageId": "plaintext"
    }
   },
   "outputs": [],
   "source": [
    "# 5. Train the model\n",
    "history = model.fit(\n",
    "    X_train, {'age_output': y_age_train, 'city_output': y_city_train},\n",
    "    validation_data=(X_test, {'age_output': y_age_test, 'city_output': y_city_test}),\n",
    "    epochs=20,\n",
    "    batch_size=32\n",
    ")"
   ]
  },
  {
   "cell_type": "code",
   "execution_count": null,
   "id": "1f1e8d24",
   "metadata": {
    "vscode": {
     "languageId": "plaintext"
    }
   },
   "outputs": [],
   "source": [
    "# 6. Evaluate the model\n",
    "loss, age_loss, city_loss, age_mae, city_acc = model.evaluate(\n",
    "    X_test, {'age_output': y_age_test, 'city_output': y_city_test}\n",
    ")\n"
   ]
  }
 ],
 "metadata": {
  "language_info": {
   "name": "python"
  }
 },
 "nbformat": 4,
 "nbformat_minor": 5
}
