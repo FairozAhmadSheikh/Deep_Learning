{
 "cells": [
  {
   "cell_type": "code",
   "execution_count": null,
   "id": "0f8d4381",
   "metadata": {
    "vscode": {
     "languageId": "plaintext"
    }
   },
   "outputs": [],
   "source": [
    "import torch\n",
    "import torch.nn as nn\n",
    "import torch.optim as optim\n",
    "from torchvision import datasets, transforms\n",
    "from torch.utils.data import DataLoader\n",
    "from torchvision.utils import save_image\n",
    "import os"
   ]
  },
  {
   "cell_type": "code",
   "execution_count": null,
   "id": "71a56bd8",
   "metadata": {
    "vscode": {
     "languageId": "plaintext"
    }
   },
   "outputs": [],
   "source": [
    "# --- Step 1: Hyperparameters and Setup ---\n",
    "# Define key training parameters\n",
    "BATCH_SIZE = 64\n",
    "LATENT_DIM = 100  # Dimension of the random noise vector\n",
    "IMAGE_SIZE = 28 * 28  # 28x28 pixels\n",
    "NUM_EPOCHS = 50\n",
    "LEARNING_RATE = 0.0002"
   ]
  },
  {
   "cell_type": "code",
   "execution_count": null,
   "id": "fd3b9420",
   "metadata": {
    "vscode": {
     "languageId": "plaintext"
    }
   },
   "outputs": [],
   "source": [
    "\n",
    "# Check for GPU\n",
    "device = torch.device(\"cuda\" if torch.cuda.is_available() else \"cpu\")\n",
    "print(f\"Using device: {device}\")"
   ]
  },
  {
   "cell_type": "code",
   "execution_count": null,
   "id": "3d165e7c",
   "metadata": {
    "vscode": {
     "languageId": "plaintext"
    }
   },
   "outputs": [],
   "source": [
    "# Create a directory to save generated images\n",
    "if not os.path.exists('generated_images'):\n",
    "    os.makedirs('generated_images)"
   ]
  },
  {
   "cell_type": "code",
   "execution_count": null,
   "id": "cd2be0a9",
   "metadata": {
    "vscode": {
     "languageId": "plaintext"
    }
   },
   "outputs": [],
   "source": [
    "# --- Step 2: Define the Generator and Discriminator Networks ---\n",
    "\n",
    "class Generator(nn.Module):\n",
    "    \"\"\"\n",
    "    The Generator network takes a random noise vector as input and outputs a fake image.\n",
    "    \"\"\"\n",
    "    "
   ]
  }
 ],
 "metadata": {
  "language_info": {
   "name": "python"
  }
 },
 "nbformat": 4,
 "nbformat_minor": 5
}
