{
 "cells": [
  {
   "cell_type": "code",
   "execution_count": null,
   "id": "53bf6db4",
   "metadata": {
    "vscode": {
     "languageId": "plaintext"
    }
   },
   "outputs": [],
   "source": [
    "import numpy as np\n",
    "import matplotlib.pyplot as plt"
   ]
  },
  {
   "cell_type": "code",
   "execution_count": null,
   "id": "531d59e4",
   "metadata": {
    "vscode": {
     "languageId": "plaintext"
    }
   },
   "outputs": [],
   "source": [
    "# --- Step 1: Define the function for the Mandelbrot set ---\n",
    "# This function determines if a point is in the Mandelbrot set.\n",
    "def mandelbrot(c, max_iter):\n",
    "    \"\"\"\n",
    "    Checks if a given complex number 'c' is in the Mandelbrot set.\n",
    "    The function returns the number of iterations before the sequence\n",
    "    diverges, up to a maximum number of iterations.\n",
    "    \"\"\"\n",
    "     z = 0\n",
    "    for n in range(max_iter):\n",
    "        z = z*z + c\n",
    "        if abs(z) > 2:\n",
    "            return n\n",
    "    return max_iter"
   ]
  },
  {
   "cell_type": "code",
   "execution_count": null,
   "id": "7163bf0e",
   "metadata": {
    "vscode": {
     "languageId": "plaintext"
    }
   },
   "outputs": [],
   "source": [
    "# --- Step 2: Set up parameters for the plot ---\n",
    "# Define the size of the image and the maximum number of iterations\n",
    "WIDTH = 800\n",
    "HEIGHT = 800\n",
    "MAX_ITER = 100"
   ]
  }
 ],
 "metadata": {
  "language_info": {
   "name": "python"
  }
 },
 "nbformat": 4,
 "nbformat_minor": 5
}
