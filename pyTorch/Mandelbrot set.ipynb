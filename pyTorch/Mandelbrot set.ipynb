{
 "cells": [
  {
   "cell_type": "code",
   "execution_count": null,
   "id": "53bf6db4",
   "metadata": {
    "vscode": {
     "languageId": "plaintext"
    }
   },
   "outputs": [],
   "source": [
    "import numpy as np\n",
    "import matplotlib.pyplot as plt"
   ]
  },
  {
   "cell_type": "code",
   "execution_count": null,
   "id": "531d59e4",
   "metadata": {
    "vscode": {
     "languageId": "plaintext"
    }
   },
   "outputs": [],
   "source": [
    "# --- Step 1: Define the function for the Mandelbrot set ---\n",
    "# This function determines if a point is in the Mandelbrot set.\n",
    "def mandelbrot(c, max_iter):\n",
    "    \"\"\"\n",
    "    Checks if a given complex number 'c' is in the Mandelbrot set.\n",
    "    The function returns the number of iterations before the sequence\n",
    "    diverges, up to a maximum number of iterations.\n",
    "    \"\"\""
   ]
  }
 ],
 "metadata": {
  "language_info": {
   "name": "python"
  }
 },
 "nbformat": 4,
 "nbformat_minor": 5
}
