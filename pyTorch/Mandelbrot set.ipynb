{
 "cells": [
  {
   "cell_type": "code",
   "execution_count": null,
   "id": "53bf6db4",
   "metadata": {
    "vscode": {
     "languageId": "plaintext"
    }
   },
   "outputs": [],
   "source": [
    "import numpy as np\n",
    "import matplotlib.pyplot as plt"
   ]
  },
  {
   "cell_type": "code",
   "execution_count": null,
   "id": "531d59e4",
   "metadata": {
    "vscode": {
     "languageId": "plaintext"
    }
   },
   "outputs": [],
   "source": [
    "# --- Step 1: Define the function for the Mandelbrot set ---\n",
    "# This function determines if a point is in the Mandelbrot set.\n",
    "def mandelbrot(c, max_iter):\n",
    "    \"\"\"\n",
    "    Checks if a given complex number 'c' is in the Mandelbrot set.\n",
    "    The function returns the number of iterations before the sequence\n",
    "    diverges, up to a maximum number of iterations.\n",
    "    \"\"\"\n",
    "     z = 0\n",
    "    for n in range(max_iter):\n",
    "        z = z*z + c\n",
    "        if abs(z) > 2:\n",
    "            return n\n",
    "    return max_iter"
   ]
  },
  {
   "cell_type": "code",
   "execution_count": null,
   "id": "7163bf0e",
   "metadata": {
    "vscode": {
     "languageId": "plaintext"
    }
   },
   "outputs": [],
   "source": [
    "# --- Step 2: Set up parameters for the plot ---\n",
    "# Define the size of the image and the maximum number of iterations\n",
    "WIDTH = 800\n",
    "HEIGHT = 800\n",
    "MAX_ITER = 100"
   ]
  },
  {
   "cell_type": "code",
   "execution_count": null,
   "id": "5172fd4b",
   "metadata": {
    "vscode": {
     "languageId": "plaintext"
    }
   },
   "outputs": [],
   "source": [
    "# Define the complex plane region to plot\n",
    "RE_START = -2.0\n",
    "RE_END = 1.0\n",
    "IM_START = -1.5\n",
    "IM_END = 1.5"
   ]
  },
  {
   "cell_type": "code",
   "execution_count": null,
   "id": "b478f8dd",
   "metadata": {
    "vscode": {
     "languageId": "plaintext"
    }
   },
   "outputs": [],
   "source": [
    "# Create a grid of real and imaginary parts\n",
    "x = np.linspace(RE_START, RE_END, WIDTH)\n",
    "y = np.linspace(IM_START, IM_END, HEIGHT)"
   ]
  },
  {
   "cell_type": "code",
   "execution_count": null,
   "id": "aadd8681",
   "metadata": {
    "vscode": {
     "languageId": "plaintext"
    }
   },
   "outputs": [],
   "source": [
    "# --- Step 3: Compute the Mandelbrot set for each point in the grid ---\n",
    "# Create an empty 2D array to store the iteration counts\n",
    "mandelbrot_set = np.zeros((WIDTH, HEIGHT))"
   ]
  },
  {
   "cell_type": "code",
   "execution_count": null,
   "id": "efaec407",
   "metadata": {
    "vscode": {
     "languageId": "plaintext"
    }
   },
   "outputs": [],
   "source": [
    "for i in range(WIDTH):\n",
    "    for j in range(HEIGHT):\n",
    "        # Create a complex number for the current pixel\n",
    "        c = complex(x[i], y[j])\n",
    "        # Calculate the number of iterations for this point\n",
    "        mandelbrot_set[i, j] = mandelbrot(c, MAX_ITER)"
   ]
  },
  {
   "cell_type": "code",
   "execution_count": null,
   "id": "d5b0087b",
   "metadata": {
    "vscode": {
     "languageId": "plaintext"
    }
   },
   "outputs": [],
   "source": [
    "# --- Step 4: Visualize the fractal using matplotlib ---\n",
    "# Create a figure and axes for the plot\n",
    "fig, ax = plt.subplots(figsize=(10, 10))"
   ]
  },
  {
   "cell_type": "code",
   "execution_count": null,
   "id": "4b9aec58",
   "metadata": {
    "vscode": {
     "languageId": "plaintext"
    }
   },
   "outputs": [],
   "source": [
    "# Display the fractal image\n",
    "# The colormap determines the colors used to represent the iteration counts\n",
    "ax.imshow(\n",
    "    mandelbrot_set.T,\n",
    "    cmap='viridis',\n",
    "    extent=[RE_START, RE_END, IM_START, IM_END]\n",
    ")"
   ]
  }
 ],
 "metadata": {
  "language_info": {
   "name": "python"
  }
 },
 "nbformat": 4,
 "nbformat_minor": 5
}
