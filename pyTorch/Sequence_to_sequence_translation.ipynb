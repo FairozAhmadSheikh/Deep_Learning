{
 "cells": [
  {
   "cell_type": "code",
   "execution_count": null,
   "id": "a25be6d6",
   "metadata": {
    "vscode": {
     "languageId": "plaintext"
    }
   },
   "outputs": [],
   "source": [
    "import torch\n",
    "import torch.nn as nn\n",
    "import torch.optim as optim\n",
    "import math"
   ]
  },
  {
   "cell_type": "code",
   "execution_count": null,
   "id": "798519b5",
   "metadata": {
    "vscode": {
     "languageId": "plaintext"
    }
   },
   "outputs": [],
   "source": [
    "# --- Step 1: Define Key Modules ---\n",
    "\n",
    "class PositionalEncoding(nn.Module):\n",
    "    \"\"\"\n",
    "    This module adds positional information to the input embeddings.\n",
    "    Since Transformers process sequences in parallel, they have no inherent\n",
    "    sense of word order. Positional encoding provides this information.\n",
    "    \"\"\""
   ]
  },
  {
   "cell_type": "code",
   "execution_count": null,
   "id": "ffbf0985",
   "metadata": {
    "vscode": {
     "languageId": "plaintext"
    }
   },
   "outputs": [],
   "source": [
    "def __init__(self, d_model, max_len=5000):\n",
    "        super(PositionalEncoding, self).__init__()\n",
    "        \n",
    "        # Create a matrix of shape (max_len, d_model)\n",
    "        pe = torch.zeros(max_len, d_model)\n",
    "        # Create a tensor of shape (max_len, 1) representing positions\n",
    "        position = torch.arange(0, max_len, dtype=torch.float).unsqueeze(1)\n",
    "\n",
    "        # Calculate the denominator for the sine and cosine functions\n",
    "        div_term = torch.exp(torch.arange(0, d_model, 2).float() * (-math.log(10000.0) / d_model))\n",
    "\n",
    "        # Apply sine to even indices and cosine to odd indices\n",
    "        pe[:, 0::2] = torch.sin(position * div_term)\n",
    "        pe[:, 1::2] = torch.cos(position * div_term)\n",
    "\n",
    "        # Add a batch dimension to the positional encoding matrix\n",
    "        pe = pe.unsqueeze(0).transpose(0, 1)\n",
    "\n",
    "        # Register the positional encoding as a buffer, so it's not a parameter\n",
    "        self.register_buffer('pe', pe)"
   ]
  },
  {
   "cell_type": "code",
   "execution_count": null,
   "id": "41bcf09c",
   "metadata": {
    "vscode": {
     "languageId": "plaintext"
    }
   },
   "outputs": [],
   "source": [
    "def forward(self, x):\n",
    "        \"\"\"\n",
    "        x: input tensor of shape (seq_len, batch_size, d_model)\n",
    "        \"\"\"\n",
    "        # Add the positional encoding to the input embeddings\n",
    "        x = x + self.pe[:x.size(0), :]\n",
    "        return x"
   ]
  },
  {
   "cell_type": "code",
   "execution_count": null,
   "id": "44d4e889",
   "metadata": {
    "vscode": {
     "languageId": "plaintext"
    }
   },
   "outputs": [],
   "source": [
    "class MultiHeadAttention(nn.Module):\n",
    "    \"\"\"\n",
    "    The core mechanism of the Transformer. It allows the model to weigh\n",
    "    the importance of different words in a sequence when encoding a single word.\n",
    "    \"\"\"\n",
    "    def __init__(self, d_model, n_heads):\n",
    "        super(MultiHeadAttention, self).__init__()\n",
    "        assert d_model % n_heads == 0\n",
    "\n",
    "        self.d_model = d_model\n",
    "        self.n_heads = n_heads\n",
    "        self.d_k = d_model // n_heads # Dimension of each head\n",
    "        \n",
    "        # Linear layers for Query, Key, Value\n",
    "        self.query_linear = nn.Linear(d_model, d_model)\n",
    "        self.key_linear = nn.Linear(d_model, d_model)\n",
    "        self.value_linear = nn.Linear(d_model, d_model)\n",
    "\n",
    "        # Final linear layer to combine head outputs\n",
    "        self.output_linear = nn.Linear(d_model, d_model)\n",
    "        \n",
    "        self.dropout = nn.Dropout(p=0.1)\n",
    "\n",
    "    def forward(self, query, key, value, mask=None):\n",
    "        \"\"\"\n",
    "        query, key, value: tensors of shape (seq_len, batch_size, d_model)\n",
    "        mask: optional mask tensor for preventing attention to certain positions (e.g., padding)\n",
    "        \"\"\"\n",
    "        batch_size = query.size(1)\n",
    "\n",
    "        # 1. Linear projections\n",
    "        query = self.query_linear(query)\n",
    "        key = self.key_linear(key)\n",
    "        value = self.value_linear(value)\n",
    "\n",
    "        # 2. Reshape and permute for multi-head attention\n",
    "        query = query.view(-1, batch_size, self.n_heads, self.d_k).permute(1, 2, 0, 3)\n",
    "        key = key.view(-1, batch_size, self.n_heads, self.d_k).permute(1, 2, 0, 3)\n",
    "        value = value.view(-1, batch_size, self.n_heads, self.d_k).permute(1, 2, 0, 3)\n",
    "        \n",
    "        # 3. Scaled Dot-Product Attention\n",
    "        scores = torch.matmul(query, key.transpose(-2, -1)) / math.sqrt(self.d_k)\n",
    "        \n",
    "        if mask is not None:\n",
    "            # Apply the mask. `scores` will have its masked positions set to -infinity\n",
    "            scores = scores.masked_fill(mask == 0, float('-inf'))\n",
    "        \n",
    "        attention_weights = torch.softmax(scores, dim=-1)\n",
    "        attention_weights = self.dropout(attention_weights)\n",
    "        \n",
    "        # 4. Multiply with Value and concatenate heads\n",
    "        attended_values = torch.matmul(attention_weights, value)\n",
    "        attended_values = attended_values.permute(2, 0, 1, 3).contiguous()\n",
    "        attended_values = attended_values.view(-1, batch_size, self.d_model)\n",
    "        \n",
    "         # 5. Final linear layer\n",
    "        output = self.output_linear(attended_values)\n",
    "        return output"
   ]
  },
  {
   "cell_type": "code",
   "execution_count": null,
   "id": "52b6d5c4",
   "metadata": {
    "vscode": {
     "languageId": "plaintext"
    }
   },
   "outputs": [],
   "source": [
    "class FeedForward(nn.Module):\n",
    "    \"\"\"\n",
    "    A simple two-layer feed-forward network with a ReLU activation.\n",
    "    It's applied to each position in the sequence independently.\n",
    "    \"\"\"\n",
    "    def __init__(self, d_model, d_ff):\n",
    "        super(FeedForward, self).__init__()\n",
    "        self.linear1 = nn.Linear(d_model, d_ff)\n",
    "        self.linear2 = nn.Linear(d_ff, d_model)\n",
    "        self.dropout = nn.Dropout(p=0.1)\n",
    "    def forward(self, x):\n",
    "        x = torch.relu(self.linear1(x))\n",
    "        x = self.dropout(x)\n",
    "        x = self.linear2(x)\n",
    "        return x"
   ]
  },
  {
   "cell_type": "code",
   "execution_count": null,
   "id": "4dadfeaa",
   "metadata": {
    "vscode": {
     "languageId": "plaintext"
    }
   },
   "outputs": [],
   "source": [
    "class EncoderLayer(nn.Module):\n",
    "    \"\"\"\n",
    "    A single layer of the Transformer's Encoder.\n",
    "    It contains a Multi-Head Attention sub-layer and a Feed-Forward sub-layer.\n",
    "    \"\"\"\n",
    "    def __init__(self, d_model, n_heads, d_ff):\n",
    "        super(EncoderLayer, self).__init__()\n",
    "        self.multi_head_attention = MultiHeadAttention(d_model, n_heads)\n",
    "        self.feed_forward = FeedForward(d_model, d_ff)\n",
    "\n",
    "        self.norm1 = nn.LayerNorm(d_model)\n",
    "        self.norm2 = nn.LayerNorm(d_model)\n",
    "        self.dropout1 = nn.Dropout(p=0.1)\n",
    "        self.dropout2 = nn.Dropout(p=0.1)\n",
    "\n",
    "    def forward(self, src, src_mask):\n",
    "        # Multi-head attention with a residual connection and layer normalization\n",
    "        attention_output = self.multi_head_attention(src, src, src, src_mask)\n",
    "        src = src + self.dropout1(attention_output)\n",
    "        src = self.norm1(src)\n",
    "\n",
    "        # Feed-forward network with a residual connection and layer normalization\n",
    "        ff_output = self.feed_forward(src)\n",
    "        src = src + self.dropout2(ff_output)\n",
    "        src = self.norm2(src)\n",
    "        return src"
   ]
  },
  {
   "cell_type": "code",
   "execution_count": null,
   "id": "2e57c43f",
   "metadata": {
    "vscode": {
     "languageId": "plaintext"
    }
   },
   "outputs": [],
   "source": [
    "class DecoderLayer(nn.Module):\n",
    "    \"\"\"\n",
    "    A single layer of the Transformer's Decoder.\n",
    "    It contains a masked Multi-Head Attention, a second Multi-Head Attention,\n",
    "    and a Feed-Forward sub-layer.\n",
    "    \"\"\"\n",
    "    def __init__(self, d_model, n_heads, d_ff):\n",
    "        super(DecoderLayer, self).__init__()\n",
    "        self.masked_multi_head_attention = MultiHeadAttention(d_model, n_heads)\n",
    "        self.multi_head_attention = MultiHeadAttention(d_model, n_heads)\n",
    "        self.feed_forward = FeedForward(d_model, d_ff)\n",
    "\n",
    "        self.norm1 = nn.LayerNorm(d_model)\n",
    "        self.norm2 = nn.LayerNorm(d_model)\n",
    "        self.norm3 = nn.LayerNorm(d_model)\n",
    "\n",
    "        self.dropout1 = nn.Dropout(p=0.1)\n",
    "        self.dropout2 = nn.Dropout(p=0.1)\n",
    "        self.dropout3 = nn.Dropout(p=0.1)\n",
    "\n",
    "    def forward(self, trg, enc_src, trg_mask, src_mask):\n",
    "        # 1. Masked self-attention (to prevent looking at future tokens)\n",
    "        attention1_output = self.masked_multi_head_attention(trg, trg, trg, trg_mask)\n",
    "        trg = trg + self.dropout1(attention1_output)\n",
    "\n",
    "        # 2. Encoder-Decoder attention (to attend to the encoder's output)\n",
    "        attention2_output = self.multi_head_attention(trg, enc_src, enc_src, src_mask)\n",
    "        trg = trg + self.dropout2(attention2_output)\n",
    "        trg = self.norm2(trg)\n",
    "\n",
    "        # 3. Feed-forward network\n",
    "        ff_output = self.feed_forward(trg)\n",
    "        trg = trg + self.dropout3(ff_output)\n",
    "        trg = self.norm3(trg)\n",
    "        \n",
    "        return trg\n",
    "\n"
   ]
  },
  {
   "cell_type": "code",
   "execution_count": null,
   "id": "a564d7de",
   "metadata": {
    "vscode": {
     "languageId": "plaintext"
    }
   },
   "outputs": [],
   "source": [
    "class Transformer(nn.Module):\n",
    "    \"\"\"\n",
    "    The full Transformer architecture, combining the Encoder and Decoder.\n",
    "    \"\"\"\n",
    "    def __init__(self, src_vocab_size, trg_vocab_size, d_model, n_heads, d_ff, n_layers, device):\n",
    "        super(Transformer, self).__init__()\n",
    "\n",
    "        # Encoder components\n",
    "        self.src_embedding = nn.Embedding(src_vocab_size, d_model)\n",
    "        self.src_pos_encoding = PositionalEncoding(d_model)\n",
    "        self.encoder_layers = nn.ModuleList([EncoderLayer(d_model, n_heads, d_ff) for _ in range(n_layers)])\n",
    "\n",
    "        # Decoder components\n",
    "        self.trg_embedding = nn.Embedding(trg_vocab_size, d_model)\n",
    "        self.trg_pos_encoding = PositionalEncoding(d_model)\n",
    "        self.decoder_layers = nn.ModuleList([DecoderLayer(d_model, n_heads, d_ff) for _ in range(n_layers)])\n",
    "        \n",
    "\n",
    "        "
   ]
  }
 ],
 "metadata": {
  "language_info": {
   "name": "python"
  }
 },
 "nbformat": 4,
 "nbformat_minor": 5
}
