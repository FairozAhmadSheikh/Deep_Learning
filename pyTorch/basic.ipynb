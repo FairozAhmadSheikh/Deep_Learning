{
 "cells": [
  {
   "cell_type": "code",
   "execution_count": null,
   "id": "6209e490",
   "metadata": {
    "vscode": {
     "languageId": "plaintext"
    }
   },
   "outputs": [],
   "source": [
    "\n",
    "import torch\n",
    "import torch.nn as nn\n",
    "import torch.optim as optim"
   ]
  },
  {
   "cell_type": "code",
   "execution_count": null,
   "id": "76a10636",
   "metadata": {
    "vscode": {
     "languageId": "plaintext"
    }
   },
   "outputs": [],
   "source": [
    "class SimpleNet(nn.Module):\n",
    "    # The __init__ function sets up the layers of our network.\n",
    "    def __init__(self):\n",
    "        # Always call the parent class's constructor first.\n",
    "        super(SimpleNet, self).__init__()\n",
    "        \n",
    "        # This is our first layer. It takes 1 number as input and outputs 5 numbers.\n",
    "        # Think of it as a layer of 5 \"neurons\" that process the input.\n",
    "        self.hidden_layer = nn.Linear(1, 5)\n",
    "        \n",
    "        # This is our final layer. It takes the 5 numbers from the hidden layer\n",
    "        # and turns them into a single number for our final prediction.\n",
    "        self.output_layer = nn.Linear(5, 1)"
   ]
  }
 ],
 "metadata": {
  "language_info": {
   "name": "python"
  }
 },
 "nbformat": 4,
 "nbformat_minor": 5
}
