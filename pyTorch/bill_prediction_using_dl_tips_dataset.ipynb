{
 "cells": [
  {
   "cell_type": "code",
   "execution_count": null,
   "id": "b0b4da8c",
   "metadata": {
    "vscode": {
     "languageId": "plaintext"
    }
   },
   "outputs": [],
   "source": [
    "import torch\n",
    "import torch.nn as nn\n",
    "import torch.optim as optim\n",
    "import seaborn as sns\n",
    "import pandas as pd\n",
    "from sklearn.model_selection import train_test_split\n",
    "from sklearn.preprocessing import StandardScaler"
   ]
  },
  {
   "cell_type": "code",
   "execution_count": null,
   "id": "2896903b",
   "metadata": {
    "vscode": {
     "languageId": "plaintext"
    }
   },
   "outputs": [],
   "source": [
    "# --- Step 1: Define the Neural Network ---\n",
    "# This network will handle a regression problem with a real dataset.\n",
    "# The number of input features will be determined by our processed data.\n",
    "class AdvancedNet(nn.Module):\n",
    "    def __init__(self, input_features):\n",
    "        super(AdvancedNet, self).__init__()\n",
    "        \n",
    "        # A simple linear regression-style network\n",
    "        self.fc1 = nn.Linear(input_features, 64)\n",
    "        self.fc2 = nn.Linear(64, 32)\n",
    "        self.fc3 = nn.Linear(32, 1)\n",
    "    def forward(self, x):\n",
    "        # Pass through layers with ReLU activation\n",
    "        x = torch.relu(self.fc1(x))\n",
    "        x = torch.relu(self.fc2(x))\n",
    "        x = self.fc3(x)  # The final layer has no activation for regression\n",
    "        return x\n"
   ]
  },
  {
   "cell_type": "code",
   "execution_count": null,
   "id": "b53e1a4e",
   "metadata": {
    "vscode": {
     "languageId": "plaintext"
    }
   },
   "outputs": [],
   "source": [
    "# --- Step 2: Load and Preprocess Data ---\n",
    "# Load the 'tips' dataset from seaborn\n",
    "tips_df = sns.load_dataset(\"tips\")\n",
    "\n",
    "# Select features and target\n",
    "# 'total_bill' is our target variable to predict\n",
    "# 'size' is the only numeric feature we'll use for now\n",
    "features = tips_df[['size']]\n",
    "target = tips_df['total_bill']"
   ]
  },
  {
   "cell_type": "code",
   "execution_count": null,
   "id": "05cf95e4",
   "metadata": {
    "vscode": {
     "languageId": "plaintext"
    }
   },
   "outputs": [],
   "source": [
    "# Convert pandas dataframes to PyTorch tensors\n",
    "# We'll use float32 as it's the standard for PyTorch\n",
    "X = torch.tensor(features.values, dtype=torch.float32)\n",
    "y = torch.tensor(target.values, dtype=torch.float32).unsqueeze(1)\n"
   ]
  }
 ],
 "metadata": {
  "language_info": {
   "name": "python"
  }
 },
 "nbformat": 4,
 "nbformat_minor": 5
}
