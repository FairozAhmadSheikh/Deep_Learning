{
 "cells": [
  {
   "cell_type": "code",
   "execution_count": null,
   "id": "7cd6ec6e",
   "metadata": {
    "vscode": {
     "languageId": "plaintext"
    }
   },
   "outputs": [],
   "source": [
    "import torch\n",
    "import torch.nn as nn\n",
    "import torch.optim as optim\n"
   ]
  },
  {
   "cell_type": "code",
   "execution_count": null,
   "id": "000b801e",
   "metadata": {
    "vscode": {
     "languageId": "plaintext"
    }
   },
   "outputs": [],
   "source": [
    "# A deeper neural network for classification\n",
    "class AdvancedNet(nn.Module):\n",
    "    def __init__(self):\n",
    "        super(AdvancedNet, self).__init__()\n",
    "        \n",
    "        # Two input features, 10 hidden neurons\n",
    "        self.fc1 = nn.Linear(2, 10)\n",
    "        # Another hidden layer with 10 neurons\n",
    "        self.fc2 = nn.Linear(10, 10)\n",
    "        # Single output neuron for binary classification\n",
    "        self.fc3 = nn.Linear(10, 1)\n",
    "    def forward(self, x):\n",
    "        # Pass through the first layer with ReLU activation\n",
    "        x = torch.relu(self.fc1(x))\n",
    "        # Pass through the second layer with ReLU activation\n",
    "        x = torch.relu(self.fc2(x))"
   ]
  }
 ],
 "metadata": {
  "language_info": {
   "name": "python"
  }
 },
 "nbformat": 4,
 "nbformat_minor": 5
}
