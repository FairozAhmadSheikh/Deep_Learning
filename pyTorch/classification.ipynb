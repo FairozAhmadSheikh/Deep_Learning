{
 "cells": [
  {
   "cell_type": "code",
   "execution_count": null,
   "id": "7cd6ec6e",
   "metadata": {
    "vscode": {
     "languageId": "plaintext"
    }
   },
   "outputs": [],
   "source": [
    "import torch\n",
    "import torch.nn as nn\n",
    "import torch.optim as optim\n"
   ]
  },
  {
   "cell_type": "code",
   "execution_count": null,
   "id": "000b801e",
   "metadata": {
    "vscode": {
     "languageId": "plaintext"
    }
   },
   "outputs": [],
   "source": [
    "# A deeper neural network for classification\n",
    "class AdvancedNet(nn.Module):\n",
    "    def __init__(self):\n",
    "        super(AdvancedNet, self).__init__()\n",
    "        \n",
    "        # Two input features, 10 hidden neurons\n",
    "        self.fc1 = nn.Linear(2, 10)\n",
    "        # Another hidden layer with 10 neurons\n",
    "        self.fc2 = nn.Linear(10, 10)\n",
    "        # Single output neuron for binary classification\n",
    "        self.fc3 = nn.Linear(10, 1)\n",
    "    def forward(self, x):\n",
    "        # Pass through the first layer with ReLU activation\n",
    "        x = torch.relu(self.fc1(x))\n",
    "        # Pass through the second layer with ReLU activation\n",
    "        x = torch.relu(self.fc2(x))# Final output layer (no activation here, done in the loss function)\n",
    "        x = self.fc3(x)\n",
    "        return x"
   ]
  },
  {
   "cell_type": "code",
   "execution_count": null,
   "id": "7df7cd30",
   "metadata": {
    "vscode": {
     "languageId": "plaintext"
    }
   },
   "outputs": [],
   "source": [
    "# --- Main Program ---\n",
    "\n",
    "# 1. Generate a dummy dataset for binary classification\n",
    "# Create 100 random 2D points (x, y)\n",
    "X = torch.randn(100, 2)\n",
    "# Create labels: 1 if x + y > 0, else 0\n",
    "y = ((X[:, 0] + X[:, 1]) > 0).float().unsqueeze(1)\n"
   ]
  },
  {
   "cell_type": "code",
   "execution_count": null,
   "id": "0ca8dbe9",
   "metadata": {
    "vscode": {
     "languageId": "plaintext"
    }
   },
   "outputs": [],
   "source": [
    "# 2. Instantiate the network\n",
    "model = AdvancedNet()"
   ]
  },
  {
   "cell_type": "code",
   "execution_count": null,
   "id": "2ac75f39",
   "metadata": {
    "vscode": {
     "languageId": "plaintext"
    }
   },
   "outputs": [],
   "source": [
    "# 3. Define the loss function and optimizer\n",
    "# BCEWithLogitsLoss is a stable loss function for binary classification\n",
    "criterion = nn.BCEWithLogitsLoss()"
   ]
  }
 ],
 "metadata": {
  "language_info": {
   "name": "python"
  }
 },
 "nbformat": 4,
 "nbformat_minor": 5
}
