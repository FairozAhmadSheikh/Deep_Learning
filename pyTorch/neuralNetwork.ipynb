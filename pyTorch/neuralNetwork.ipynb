{
 "cells": [
  {
   "cell_type": "code",
   "execution_count": null,
   "id": "8f1afad6",
   "metadata": {},
   "outputs": [],
   "source": [
    "import numpy as np"
   ]
  },
  {
   "cell_type": "code",
   "execution_count": null,
   "id": "4016f082",
   "metadata": {},
   "outputs": [],
   "source": [
    "# Helper functions for the activation function and its derivative\n",
    "def sigmoid(x):\n",
    "    \"\"\"\n",
    "    The sigmoid activation function.\n",
    "    \"\"\"\n",
    "    return 1 / (1 + np.exp(-x))"
   ]
  },
  {
   "cell_type": "code",
   "execution_count": null,
   "id": "18ebd33a",
   "metadata": {},
   "outputs": [],
   "source": [
    "def sigmoid_derivative(x):\n",
    "    \"\"\"\n",
    "    The derivative of the sigmoid function.\n",
    "    \"\"\"\n",
    "    return x * (1 - x)"
   ]
  },
  {
   "cell_type": "code",
   "execution_count": null,
   "id": "fa4ded18",
   "metadata": {},
   "outputs": [],
   "source": [
    "def initialize_network(input_size, hidden_size, output_size):\n",
    "    \"\"\"\n",
    "    Initializes the network's weights and biases.\n",
    "    \n",
    "    Returns:\n",
    "        tuple: A tuple containing the initialized weights and biases.\n",
    "    \"\"\"\n",
    "    np.random.seed(42)\n",
    "    weights_hidden = np.random.randn(input_size, hidden_size) * 0.01\n",
    "    bias_hidden = np.zeros((1, hidden_size))\n",
    "    weights_output = np.random.randn(hidden_size, output_size) * 0.01\n",
    "    bias_output = np.zeros((1, output_size))\n",
    "    return weights_hidden, bias_hidden, weights_output, bias_output\n"
   ]
  },
  {
   "cell_type": "code",
   "execution_count": null,
   "id": "67f4ae6b",
   "metadata": {},
   "outputs": [],
   "source": [
    "def forward_pass(X, weights_hidden, bias_hidden, weights_output, bias_output):\n",
    "    \"\"\"\n",
    "    Performs the forward propagation step.\n",
    "    \n",
    "    Returns:\n",
    "        tuple: A tuple containing the hidden layer output and the final predicted output.\n",
    "    \"\"\"\n",
    "    hidden_layer_input = np.dot(X, weights_hidden) + bias_hidden\n",
    "    hidden_layer_output = sigmoid(hidden_layer_input)\n",
    "    output_layer_input = np.dot(hidden_layer_output, weights_output) + bias_output\n",
    "    predicted_output = sigmoid(output_layer_input)\n",
    "    return hidden_layer_output, predicted_output\n"
   ]
  },
  {
   "cell_type": "code",
   "execution_count": null,
   "id": "47eaaa9a",
   "metadata": {},
   "outputs": [],
   "source": [
    "def backward_pass(X, y, predicted_output, hidden_layer_output, weights_hidden, bias_hidden, weights_output, bias_output, learning_rate):\n",
    "    \"\"\"\n",
    "    Performs the backward propagation step to compute gradients and update weights.\n",
    "    \n",
    "    Returns:\n",
    "        tuple: The updated weights and biases.\n",
    "    \"\"\"\n",
    "    # Calculate the error and delta for the output layer\n",
    "    output_error = y - predicted_output\n",
    "    output_delta = output_error * sigmoid_derivative(predicted_output)\n",
    "\n",
    "    # Calculate the error and delta for the hidden layer\n",
    "    hidden_layer_error = np.dot(output_delta, weights_output.T)\n",
    "    hidden_layer_delta = hidden_layer_error * sigmoid_derivative(hidden_layer_output)\n",
    "\n",
    "    # Update weights and biases\n",
    "    weights_output += np.dot(hidden_layer_output.T, output_delta) * learning_rate\n",
    "    bias_output += np.sum(output_delta, axis=0, keepdims=True) * learning_rate\n",
    "    weights_hidden += np.dot(X.T, hidden_layer_delta) * learning_rate\n",
    "    bias_hidden += np.sum(hidden_layer_delta, axis=0, keepdims=True) * learning_rate\n",
    "\n",
    "    return weights_hidden, bias_hidden, weights_output, bias_output\n"
   ]
  },
  {
   "cell_type": "code",
   "execution_count": null,
   "id": "c32190c5",
   "metadata": {},
   "outputs": [],
   "source": [
    "def train_network(X, y, input_size, hidden_size, output_size, epochs, learning_rate):\n",
    "    \"\"\"\n",
    "    The main training loop for the neural network.\n",
    "    \n",
    "    Returns:\n",
    "        tuple: The final trained weights and biases.\n",
    "    \"\"\"\n",
    "    # Initialize the weights and biases\n",
    "    weights_hidden, bias_hidden, weights_output, bias_output = initialize_network(\n",
    "        input_size, hidden_size, output_size\n",
    "    )"
   ]
  }
 ],
 "metadata": {
  "language_info": {
   "name": "python"
  }
 },
 "nbformat": 4,
 "nbformat_minor": 5
}
