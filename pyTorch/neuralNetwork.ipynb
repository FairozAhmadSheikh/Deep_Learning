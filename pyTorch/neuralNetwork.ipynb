{
 "cells": [
  {
   "cell_type": "code",
   "execution_count": null,
   "id": "8f1afad6",
   "metadata": {},
   "outputs": [],
   "source": [
    "import numpy as np"
   ]
  },
  {
   "cell_type": "code",
   "execution_count": null,
   "id": "4016f082",
   "metadata": {},
   "outputs": [],
   "source": [
    "# Helper functions for the activation function and its derivative\n",
    "def sigmoid(x):\n",
    "    \"\"\"\n",
    "    The sigmoid activation function.\n",
    "    \"\"\"\n",
    "    return 1 / (1 + np.exp(-x))"
   ]
  },
  {
   "cell_type": "code",
   "execution_count": null,
   "id": "18ebd33a",
   "metadata": {},
   "outputs": [],
   "source": [
    "def sigmoid_derivative(x):\n",
    "    \"\"\"\n",
    "    The derivative of the sigmoid function.\n",
    "    \"\"\"\n",
    "    return x * (1 - x)"
   ]
  },
  {
   "cell_type": "code",
   "execution_count": null,
   "id": "fa4ded18",
   "metadata": {},
   "outputs": [],
   "source": [
    "def initialize_network(input_size, hidden_size, output_size):\n",
    "    \"\"\"\n",
    "    Initializes the network's weights and biases.\n",
    "    \n",
    "    Returns:\n",
    "        tuple: A tuple containing the initialized weights and biases.\n",
    "    \"\"\"\n",
    "    np.random.seed(42)\n",
    "    weights_hidden = np.random.randn(input_size, hidden_size) * 0.01\n",
    "    bias_hidden = np.zeros((1, hidden_size))\n",
    "    weights_output = np.random.randn(hidden_size, output_size) * 0.01\n",
    "    bias_output = np.zeros((1, output_size))\n",
    "    return weights_hidden, bias_hidden, weights_output, bias_output\n"
   ]
  },
  {
   "cell_type": "code",
   "execution_count": null,
   "id": "67f4ae6b",
   "metadata": {},
   "outputs": [],
   "source": [
    "def forward_pass(X, weights_hidden, bias_hidden, weights_output, bias_output):\n",
    "    \"\"\"\n",
    "    Performs the forward propagation step.\n",
    "    \n",
    "    Returns:\n",
    "        tuple: A tuple containing the hidden layer output and the final predicted output.\n",
    "    \"\"\"\n",
    "    hidden_layer_input = np.dot(X, weights_hidden) + bias_hidden\n",
    "    hidden_layer_output = sigmoid(hidden_layer_input)\n",
    "    output_layer_input = np.dot(hidden_layer_output, weights_output) + bias_output\n",
    "    predicted_output = sigmoid(output_layer_input)\n",
    "    return hidden_layer_output, predicted_output\n"
   ]
  }
 ],
 "metadata": {
  "language_info": {
   "name": "python"
  }
 },
 "nbformat": 4,
 "nbformat_minor": 5
}
