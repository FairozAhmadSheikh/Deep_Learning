{
 "cells": [
  {
   "cell_type": "code",
   "execution_count": null,
   "id": "8f1afad6",
   "metadata": {},
   "outputs": [],
   "source": [
    "import numpy as np"
   ]
  },
  {
   "cell_type": "code",
   "execution_count": null,
   "id": "4016f082",
   "metadata": {},
   "outputs": [],
   "source": [
    "# Helper functions for the activation function and its derivative\n",
    "def sigmoid(x):\n",
    "    \"\"\"\n",
    "    The sigmoid activation function.\n",
    "    \"\"\"\n",
    "    return 1 / (1 + np.exp(-x))"
   ]
  },
  {
   "cell_type": "code",
   "execution_count": null,
   "id": "18ebd33a",
   "metadata": {},
   "outputs": [],
   "source": [
    "def sigmoid_derivative(x):\n",
    "    \"\"\"\n",
    "    The derivative of the sigmoid function.\n",
    "    \"\"\"\n",
    "    return x * (1 - x)"
   ]
  }
 ],
 "metadata": {
  "language_info": {
   "name": "python"
  }
 },
 "nbformat": 4,
 "nbformat_minor": 5
}
